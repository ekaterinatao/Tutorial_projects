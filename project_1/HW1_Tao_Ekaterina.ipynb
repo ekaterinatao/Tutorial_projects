{
 "cells": [
  {
   "cell_type": "markdown",
   "metadata": {
    "id": "7a_LLXLjCeMS"
   },
   "source": [
    "### Task 1: Solution"
   ]
  },
  {
   "cell_type": "code",
   "execution_count": 1,
   "metadata": {
    "id": "gWyFoGkrDGhi"
   },
   "outputs": [],
   "source": [
    "def sleep_length():\n",
    "    \"\"\"Function calculates duration of sleep in minutes based on \n",
    "    duration both night and noon sleep.\n",
    "    \"\"\"\n",
    "    hours = int(input('How long do you sleep at night? (in hours)\\t'))\n",
    "    minutes = int(input('How long do you sleep at noon? (in minutes)\\t'))\n",
    "\n",
    "    sleep_length = hours*60 + minutes\n",
    "    print()\n",
    "    print(f'Your sleep length is {sleep_length} minutes per day.')"
   ]
  },
  {
   "cell_type": "code",
   "execution_count": 2,
   "metadata": {},
   "outputs": [
    {
     "name": "stdout",
     "output_type": "stream",
     "text": [
      "How long do you sleep at night? (in hours)\t7\n",
      "How long do you sleep at noon? (in minutes)\t34\n",
      "\n",
      "Your sleep length is 454 minutes per day.\n"
     ]
    }
   ],
   "source": [
    "sleep_length()"
   ]
  },
  {
   "cell_type": "code",
   "execution_count": 3,
   "metadata": {},
   "outputs": [
    {
     "name": "stdout",
     "output_type": "stream",
     "text": [
      "How long do you sleep at night? (in hours)\t0\n",
      "How long do you sleep at noon? (in minutes)\t36\n",
      "\n",
      "Your sleep length is 36 minutes per day.\n"
     ]
    }
   ],
   "source": [
    "sleep_length()"
   ]
  },
  {
   "cell_type": "markdown",
   "metadata": {
    "id": "v_npn-j3C8jg"
   },
   "source": [
    "****\n",
    "### Task 2: Solution"
   ]
  },
  {
   "cell_type": "code",
   "execution_count": 4,
   "metadata": {
    "id": "6jRyzamrCall"
   },
   "outputs": [],
   "source": [
    "def set_alarm():\n",
    "    \"\"\"\n",
    "    Function displays wake up time based on desired sleep length.\n",
    "    Time to go to sleep is midnight.\n",
    "    \"\"\"\n",
    "    sleep = int(input('Enter length of your sleep: '))\n",
    "\n",
    "    hours = sleep // 60\n",
    "    minutes = sleep % 60\n",
    "    print()\n",
    "    print(f'Set alarm at:\\n{hours} hours\\n{minutes} minutes')"
   ]
  },
  {
   "cell_type": "code",
   "execution_count": 5,
   "metadata": {},
   "outputs": [
    {
     "name": "stdout",
     "output_type": "stream",
     "text": [
      "Enter length of your sleep: 480\n",
      "\n",
      "Set alarm at:\n",
      "8 hours\n",
      "0 minutes\n"
     ]
    }
   ],
   "source": [
    "set_alarm()"
   ]
  },
  {
   "cell_type": "code",
   "execution_count": 6,
   "metadata": {},
   "outputs": [
    {
     "name": "stdout",
     "output_type": "stream",
     "text": [
      "Enter length of your sleep: 512\n",
      "\n",
      "Set alarm at:\n",
      "8 hours\n",
      "32 minutes\n"
     ]
    }
   ],
   "source": [
    "set_alarm()"
   ]
  },
  {
   "cell_type": "markdown",
   "metadata": {
    "id": "Vxj4YJbkDMu7"
   },
   "source": [
    "****\n",
    "### Task 3: Solution"
   ]
  },
  {
   "cell_type": "code",
   "execution_count": 7,
   "metadata": {
    "id": "gjcewJX3DesJ"
   },
   "outputs": [],
   "source": [
    "def set_alarm_2():\n",
    "    \"\"\"\n",
    "    Function displays wake up time based on desired sleep length.\n",
    "    Time to go to sleep is entered manually.\n",
    "    \"\"\"\n",
    "    sleep_duration = int(input('Enter length of your sleep: '))\n",
    "    sleep_hours = int(input('What time do you start to sleep? (in hours)\\t'))\n",
    "    sleep_minutes = int(input('What time do you start to sleep? (in minutes)\\t'))\n",
    "\n",
    "    hours = sleep_duration // 60 + sleep_hours\n",
    "    minutes = sleep_duration % 60 + sleep_minutes\n",
    "\n",
    "    # Check if variable 'minutes' is greater than 60\n",
    "    if minutes >= 60:\n",
    "        hours += minutes // 60\n",
    "        minutes -= minutes // 60 * 60\n",
    "\n",
    "    print()\n",
    "    print(f'Set alarm at:\\n{hours} hours\\n{minutes} minutes')"
   ]
  },
  {
   "cell_type": "code",
   "execution_count": 8,
   "metadata": {},
   "outputs": [
    {
     "name": "stdout",
     "output_type": "stream",
     "text": [
      "Enter length of your sleep: 475\n",
      "What time do you start to sleep? (in hours)\t1\n",
      "What time do you start to sleep? (in minutes)\t55\n",
      "\n",
      "Set alarm at:\n",
      "9 hours\n",
      "50 minutes\n"
     ]
    }
   ],
   "source": [
    "set_alarm_2()"
   ]
  },
  {
   "cell_type": "code",
   "execution_count": 9,
   "metadata": {},
   "outputs": [
    {
     "name": "stdout",
     "output_type": "stream",
     "text": [
      "Enter length of your sleep: 480\n",
      "What time do you start to sleep? (in hours)\t1\n",
      "What time do you start to sleep? (in minutes)\t4\n",
      "\n",
      "Set alarm at:\n",
      "9 hours\n",
      "4 minutes\n"
     ]
    }
   ],
   "source": [
    "set_alarm_2()"
   ]
  },
  {
   "cell_type": "markdown",
   "metadata": {
    "id": "7g7d57UYDgj5"
   },
   "source": [
    "****\n",
    "### Task 4: Solution"
   ]
  },
  {
   "cell_type": "code",
   "execution_count": 10,
   "metadata": {},
   "outputs": [],
   "source": [
    "def neighb_sum():\n",
    "    \"\"\"\n",
    "    Function reads integers from the console and\n",
    "    calculates sum of neighbours of each number.\n",
    "    \"\"\"\n",
    "    # Initial list of integers\n",
    "    numbers = [int(i) for i in input('Enter list of numbers separated by spaces: ').split()]\n",
    "    # List of sums of neighboring elements\n",
    "    numbers_sum = []\n",
    "\n",
    "    # Case of one element in initial list\n",
    "    if len(numbers) == 1:\n",
    "        print(numbers[0])\n",
    "    else:\n",
    "        # Loop adding summ of neighboring elements to the resulting list\n",
    "        for i in range(len(numbers)):\n",
    "            numbers_sum.append(numbers[(i+1) % len(numbers)] + numbers[i-1])\n",
    "\n",
    "    print(*numbers_sum)"
   ]
  },
  {
   "cell_type": "code",
   "execution_count": 11,
   "metadata": {},
   "outputs": [
    {
     "name": "stdout",
     "output_type": "stream",
     "text": [
      "Enter list of numbers separated by spaces: 1 3 5 6 10\n",
      "13 6 9 15 7\n"
     ]
    }
   ],
   "source": [
    "neighb_sum()"
   ]
  },
  {
   "cell_type": "code",
   "execution_count": 12,
   "metadata": {},
   "outputs": [
    {
     "name": "stdout",
     "output_type": "stream",
     "text": [
      "Enter list of numbers separated by spaces: 6\n",
      "6\n",
      "\n"
     ]
    }
   ],
   "source": [
    "neighb_sum()"
   ]
  },
  {
   "cell_type": "markdown",
   "metadata": {
    "id": "C9DdzDwdDvlG"
   },
   "source": [
    "****\n",
    "### Task 5: Solution"
   ]
  },
  {
   "cell_type": "code",
   "execution_count": 13,
   "metadata": {},
   "outputs": [],
   "source": [
    "def dupl_values():\n",
    "    \"\"\"\n",
    "    Function reads integers from the console and\n",
    "    print the list of duplicated numbers.\n",
    "    \"\"\"\n",
    "    # Initial list of integers\n",
    "    numbers = [int(i) for i in input('Enter list of numbers separated by spaces: ').split()]\n",
    "    numbers.sort()\n",
    "    # List of duplicated values\n",
    "    numbers_dupl = []\n",
    "\n",
    "    for i in range(len(numbers)):\n",
    "        try:\n",
    "            # Adding duplicated value to the list\n",
    "            if numbers[i] not in numbers_dupl and numbers[i] == numbers[i+1]:\n",
    "                numbers_dupl.append(numbers[i])\n",
    "        except IndexError:\n",
    "            # Breaking the loop in case of last number in the list,\n",
    "            # because it has already checkd on previous step\n",
    "            break\n",
    "\n",
    "    print('List of duplicated values: ', *numbers_dupl)"
   ]
  },
  {
   "cell_type": "code",
   "execution_count": 14,
   "metadata": {},
   "outputs": [
    {
     "name": "stdout",
     "output_type": "stream",
     "text": [
      "Enter list of numbers separated by spaces: 4 4 2 5 7 2 1 4 2 7 8 4\n",
      "List of duplicated values:  2 4 7\n"
     ]
    }
   ],
   "source": [
    "dupl_values()"
   ]
  },
  {
   "cell_type": "code",
   "execution_count": 15,
   "metadata": {},
   "outputs": [
    {
     "name": "stdout",
     "output_type": "stream",
     "text": [
      "Enter list of numbers separated by spaces: 2 6 4 7 3\n",
      "List of duplicated values: \n"
     ]
    }
   ],
   "source": [
    "dupl_values()"
   ]
  },
  {
   "cell_type": "markdown",
   "metadata": {
    "id": "g1S48qv6EHjC"
   },
   "source": [
    "### Task 6: Solution"
   ]
  },
  {
   "cell_type": "code",
   "execution_count": 16,
   "metadata": {},
   "outputs": [],
   "source": [
    "def gc_content(sequence: str) -> float:\n",
    "    \"\"\"\n",
    "    Function calculates the GC-content in a nucleotide sequense.\n",
    "    \n",
    "    :param sequence: nucleotide sequense\n",
    "    :return: GC-content in percent\n",
    "    \"\"\"\n",
    "    sequence = sequence.lower()\n",
    "    g = sequence.count('g')\n",
    "    c = sequence.count('c')\n",
    "    gc = (c+g) / len(sequence) * 100\n",
    "    \n",
    "    return round(gc, 1)"
   ]
  },
  {
   "cell_type": "code",
   "execution_count": 17,
   "metadata": {},
   "outputs": [
    {
     "name": "stdout",
     "output_type": "stream",
     "text": [
      "40.0\n"
     ]
    }
   ],
   "source": [
    "print(gc_content('aCggtgttat'))"
   ]
  },
  {
   "cell_type": "code",
   "execution_count": 18,
   "metadata": {},
   "outputs": [
    {
     "name": "stdout",
     "output_type": "stream",
     "text": [
      "55.6\n"
     ]
    }
   ],
   "source": [
    "print(gc_content('gcTAGCgta'))"
   ]
  },
  {
   "cell_type": "markdown",
   "metadata": {
    "id": "Hm7d16upETUx"
   },
   "source": [
    "****\n",
    "### Task 7: Solution"
   ]
  },
  {
   "cell_type": "code",
   "execution_count": 19,
   "metadata": {},
   "outputs": [],
   "source": [
    "def dna_encoding(dna: str) -> str:\n",
    "    \"\"\"\n",
    "    Function encodes DNA to get compressed variant of notation.\n",
    "    \n",
    "    :param dna: nucleotide sequense\n",
    "    :return: compressed variant of DNA notation\n",
    "    \"\"\"\n",
    "    encoded_dna = []\n",
    "    count = 1\n",
    "    \n",
    "    for i in range(len(dna)):\n",
    "        try:\n",
    "            # Counting repeated nucleotides\n",
    "            if dna[i] == dna[i+1]:\n",
    "                count += 1\n",
    "            else:\n",
    "                # Adding nucleotide and it's frequency to the list\n",
    "                encoded_dna.append(dna[i])\n",
    "                encoded_dna.append(count)\n",
    "                count = 1\n",
    "        except IndexError:\n",
    "            # Adding last nucleotide in the sequence and it's frequency to the list\n",
    "            encoded_dna.append(dna[i])\n",
    "            encoded_dna.append(count)\n",
    "    \n",
    "    # Transforming encoded DNA from list into string\n",
    "    encoded_dna = list(map(str, encoded_dna))\n",
    "    encoded_dna = ''.join(encoded_dna)\n",
    "    \n",
    "    return encoded_dna"
   ]
  },
  {
   "cell_type": "code",
   "execution_count": 20,
   "metadata": {},
   "outputs": [
    {
     "name": "stdout",
     "output_type": "stream",
     "text": [
      "A1a1A1a1B3b3C2c1\n"
     ]
    }
   ],
   "source": [
    "print(dna_encoding('AaAaBBBbbbCCc'))"
   ]
  },
  {
   "cell_type": "code",
   "execution_count": 21,
   "metadata": {},
   "outputs": [
    {
     "name": "stdout",
     "output_type": "stream",
     "text": [
      "a4b2c1a2\n"
     ]
    }
   ],
   "source": [
    "print(dna_encoding('aaaabbcaa'))"
   ]
  },
  {
   "cell_type": "markdown",
   "metadata": {
    "id": "Ky16NUTNEpr-"
   },
   "source": [
    "****\n",
    "### Task 8: Solution"
   ]
  },
  {
   "cell_type": "code",
   "execution_count": 22,
   "metadata": {},
   "outputs": [],
   "source": [
    "def sum_of_squares() -> int:\n",
    "    \"\"\"\n",
    "    Program reads integers from the console \n",
    "    until the sum of this integers is equal to 0.\n",
    "    Than program calculates sum of squares of entered integers.\n",
    "    \n",
    "    :param : None\n",
    "    :return: sum of squares\n",
    "    \"\"\"\n",
    "    numbers = []\n",
    "    sum_squares = 0\n",
    "    \n",
    "    # Infinite loop of reading integers and adding it to the list\n",
    "    while True:\n",
    "        num = int(input())\n",
    "        numbers.append(num)\n",
    "        sum_squares += num**2\n",
    "        # Breaking the loop when the sum of the integers is equal to 0\n",
    "        if sum(numbers) == 0:\n",
    "            break\n",
    "        \n",
    "    return sum_squares"
   ]
  },
  {
   "cell_type": "code",
   "execution_count": 23,
   "metadata": {},
   "outputs": [
    {
     "name": "stdout",
     "output_type": "stream",
     "text": [
      "1\n",
      "-3\n",
      "5\n",
      "-6\n",
      "-10\n",
      "13\n",
      "340\n"
     ]
    }
   ],
   "source": [
    "print(sum_of_squares())"
   ]
  },
  {
   "cell_type": "code",
   "execution_count": 24,
   "metadata": {},
   "outputs": [
    {
     "name": "stdout",
     "output_type": "stream",
     "text": [
      "-4\n",
      "20\n",
      "-16\n",
      "672\n"
     ]
    }
   ],
   "source": [
    "print(sum_of_squares())"
   ]
  },
  {
   "cell_type": "markdown",
   "metadata": {
    "id": "bPeSnwt4F73y"
   },
   "source": [
    "****\n",
    "### Task 9: Solution"
   ]
  },
  {
   "cell_type": "code",
   "execution_count": 25,
   "metadata": {},
   "outputs": [],
   "source": [
    "def fibonacci(n: int) -> int:\n",
    "    \"\"\"\n",
    "    Program calculates variants of climbing stairs in two ways\n",
    "    (by one or by two steps). It represents Fibonacci sequence.\n",
    "    \n",
    "    :param n: number of stairs\n",
    "    :return: number of variants\n",
    "    \"\"\"\n",
    "    # Initial values of Fibonacci sequence\n",
    "    f0 = f1 = 1\n",
    "    \n",
    "    # Loop counting next Fibonacci number\n",
    "    for i in range(n-1):\n",
    "        f0, f1 = f1, f0 + f1\n",
    "    \n",
    "    return f1"
   ]
  },
  {
   "cell_type": "code",
   "execution_count": 26,
   "metadata": {},
   "outputs": [
    {
     "name": "stdout",
     "output_type": "stream",
     "text": [
      "3\n"
     ]
    }
   ],
   "source": [
    "print(fibonacci(3))"
   ]
  },
  {
   "cell_type": "code",
   "execution_count": 27,
   "metadata": {},
   "outputs": [
    {
     "name": "stdout",
     "output_type": "stream",
     "text": [
      "8\n"
     ]
    }
   ],
   "source": [
    "print(fibonacci(5))"
   ]
  },
  {
   "cell_type": "markdown",
   "metadata": {
    "id": "T8A0EHJTG03s"
   },
   "source": [
    "****\n",
    "### Task 10: Solution"
   ]
  },
  {
   "cell_type": "code",
   "execution_count": 28,
   "metadata": {},
   "outputs": [],
   "source": [
    "def com_prefix(strs: list('str')) -> str:\n",
    "    \"\"\"\n",
    "    Function finds the largest common prefix.\n",
    "    \n",
    "    :param strs: list of words\n",
    "    :return: largest common prefix\n",
    "    \"\"\"\n",
    "    # Assigning a prefix to a first word\n",
    "    prefix = strs[0]\n",
    "    \n",
    "    # Loop checking if prefix in the word\n",
    "    for word in strs:\n",
    "        for j in range(len(word)):\n",
    "            if word.find(prefix) == 0:\n",
    "                break\n",
    "            else:\n",
    "                # Cut one element from the end of prefix if it's not in the word\n",
    "                prefix = prefix[:-1]\n",
    "    \n",
    "    return prefix"
   ]
  },
  {
   "cell_type": "code",
   "execution_count": 29,
   "metadata": {},
   "outputs": [
    {
     "name": "stdout",
     "output_type": "stream",
     "text": [
      "fl\n"
     ]
    }
   ],
   "source": [
    "print(com_prefix([\"flower\",\"flow\",\"flight\"]))"
   ]
  },
  {
   "cell_type": "code",
   "execution_count": 30,
   "metadata": {},
   "outputs": [
    {
     "name": "stdout",
     "output_type": "stream",
     "text": [
      "\n"
     ]
    }
   ],
   "source": [
    "print(com_prefix([\"dog\",\"racecar\",\"car\"]))"
   ]
  },
  {
   "cell_type": "code",
   "execution_count": null,
   "metadata": {},
   "outputs": [],
   "source": []
  }
 ],
 "metadata": {
  "colab": {
   "collapsed_sections": [],
   "provenance": []
  },
  "kernelspec": {
   "display_name": "Python 3 (ipykernel)",
   "language": "python",
   "name": "python3"
  },
  "language_info": {
   "codemirror_mode": {
    "name": "ipython",
    "version": 3
   },
   "file_extension": ".py",
   "mimetype": "text/x-python",
   "name": "python",
   "nbconvert_exporter": "python",
   "pygments_lexer": "ipython3",
   "version": "3.9.12"
  }
 },
 "nbformat": 4,
 "nbformat_minor": 1
}
