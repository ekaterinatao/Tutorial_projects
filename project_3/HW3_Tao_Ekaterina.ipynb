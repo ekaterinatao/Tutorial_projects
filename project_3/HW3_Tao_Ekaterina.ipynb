{
 "cells": [
  {
   "cell_type": "markdown",
   "id": "40e0ed0d-50b8-4e8d-9609-b73dab4172e5",
   "metadata": {},
   "source": [
    "# Разогрев"
   ]
  },
  {
   "cell_type": "markdown",
   "id": "74094422-038c-48f2-ae6e-96897c473b4c",
   "metadata": {},
   "source": [
    "## Задание 1"
   ]
  },
  {
   "cell_type": "markdown",
   "id": "4d598c4c-9fa7-4cce-a972-352008b78691",
   "metadata": {},
   "source": [
    "Иногда, когда нужно создавать много однотипных лямбда функций, еще удобнее будет создать функцию, которая будет их генерировать.\n",
    "\n",
    "Реализуйте функцию ``mod_checker(x, mod=0)``, которая будет **возвращать лямбда функцию** от одного аргумента ``y``, которая будет возвращать ``True``, если остаток от деления ``y`` на ``x`` равен ``mod``, и ``False`` иначе.\n",
    "\n",
    "Если в ``return`` вашей функции написано выражение, отличное от лямбда функции - задание считается проваленным\n",
    "\n",
    "**Sample:**\n",
    "\n",
    "```python\n",
    "mod_3 = mod_checker(3)\n",
    "\n",
    "print(mod_3(3)) # True\n",
    "print(mod_3(4)) # False\n",
    "\n",
    "mod_3_1 = mod_checker(3, 1)\n",
    "print(mod_3_1(4)) # True\n",
    "```"
   ]
  },
  {
   "cell_type": "code",
   "execution_count": 1,
   "id": "113b22cc-5ce8-42b5-a733-89a7411c780f",
   "metadata": {},
   "outputs": [],
   "source": [
    "from collections.abc import Callable\n",
    "\n",
    "def mod_checker(x: int, mod: int=0) -> Callable[[int], bool]:\n",
    "    \"\"\"\n",
    "    Outer function returnes lambda-function.\n",
    "    Lambda-function returnes True if y % x == mod,\n",
    "                             False in the other case.\n",
    "\n",
    "    Outer function:\n",
    "    :param x: integer number\n",
    "    :param mod: remainder of division, default=0\n",
    "    :return: lambda-function\n",
    "\n",
    "    Inner lambda-function:\n",
    "    :param y: integer\n",
    "    :return: bool\n",
    "    \"\"\"\n",
    "    if x == 0:\n",
    "        raise ZeroDivisionError(\"You can't divide by 0\")\n",
    "\n",
    "    return lambda y: True if y % x == mod else False"
   ]
  },
  {
   "cell_type": "code",
   "execution_count": 2,
   "id": "42c76600",
   "metadata": {},
   "outputs": [
    {
     "name": "stdout",
     "output_type": "stream",
     "text": [
      "True\n",
      "False\n",
      "True\n"
     ]
    }
   ],
   "source": [
    "mod_3 = mod_checker(3)\n",
    "\n",
    "print(mod_3(3))\n",
    "print(mod_3(4))\n",
    "print(mod_3(6))"
   ]
  },
  {
   "cell_type": "code",
   "execution_count": 3,
   "id": "a5cd97f5",
   "metadata": {},
   "outputs": [
    {
     "name": "stdout",
     "output_type": "stream",
     "text": [
      "True\n",
      "False\n",
      "True\n"
     ]
    }
   ],
   "source": [
    "mod_3_1 = mod_checker(3, 1)\n",
    "\n",
    "print(mod_3_1(4))\n",
    "print(mod_3_1(3))\n",
    "print(mod_3_1(7))"
   ]
  },
  {
   "cell_type": "markdown",
   "id": "d46cfa4e-1517-4444-a31b-b39f96beca3e",
   "metadata": {},
   "source": [
    "# Numpy"
   ]
  },
  {
   "cell_type": "code",
   "execution_count": 4,
   "id": "bec93b3e-f079-4e70-914f-6b19862fc68b",
   "metadata": {},
   "outputs": [],
   "source": [
    "import numpy as np"
   ]
  },
  {
   "cell_type": "markdown",
   "id": "e065e248-1900-4a4a-8c52-590ef71980b2",
   "metadata": {},
   "source": [
    "## Задание 2\n",
    "Напишите функцию, которая принимает один аргумент - ``n``. Функция должна создать нампаевскую матрицу размером ``(n, n)`` и залить ее шахматным узором. Порядок узора не имеет значения, важен общий паттерн.\n",
    "\n",
    "**Sample:**\n",
    "```python\n",
    "chess_maze(8)\n",
    "\n",
    "[[0 1 0 1 0 1 0 1]\n",
    " [1 0 1 0 1 0 1 0]\n",
    " [0 1 0 1 0 1 0 1]\n",
    " [1 0 1 0 1 0 1 0]\n",
    " [0 1 0 1 0 1 0 1]\n",
    " [1 0 1 0 1 0 1 0]\n",
    " [0 1 0 1 0 1 0 1]\n",
    " [1 0 1 0 1 0 1 0]]\n",
    "```\n",
    "\n"
   ]
  },
  {
   "cell_type": "code",
   "execution_count": 5,
   "id": "12de4c2f-9de4-4a57-8e68-27f8125ca7e9",
   "metadata": {},
   "outputs": [],
   "source": [
    "def chess_maze(n: int) -> np.array:\n",
    "    \"\"\"\n",
    "    Function creates array witn checkered pattern.\n",
    "\n",
    "    :param n: size of array\n",
    "    :return: numpy array\n",
    "    \"\"\"\n",
    "    # Initialize empty 2D array of given length\n",
    "    arr = np.zeros((n, n), dtype=np.int8)\n",
    "    # Fill with ones intersections of every second row (starting with 2-nd)\n",
    "    # and every second column (starting with 1-st),\n",
    "    # after that repeat it vice versa\n",
    "    arr[1::2, ::2] = 1\n",
    "    arr[::2, 1::2] = 1\n",
    "\n",
    "    return arr"
   ]
  },
  {
   "cell_type": "code",
   "execution_count": 6,
   "id": "7c2e6a26",
   "metadata": {},
   "outputs": [
    {
     "name": "stdout",
     "output_type": "stream",
     "text": [
      "[[0 1 0 1 0 1 0 1]\n",
      " [1 0 1 0 1 0 1 0]\n",
      " [0 1 0 1 0 1 0 1]\n",
      " [1 0 1 0 1 0 1 0]\n",
      " [0 1 0 1 0 1 0 1]\n",
      " [1 0 1 0 1 0 1 0]\n",
      " [0 1 0 1 0 1 0 1]\n",
      " [1 0 1 0 1 0 1 0]]\n",
      "\n",
      "[[0 1 0]\n",
      " [1 0 1]\n",
      " [0 1 0]]\n",
      "\n",
      "[[0 1]\n",
      " [1 0]]\n"
     ]
    }
   ],
   "source": [
    "print(chess_maze(8))\n",
    "print()\n",
    "print(chess_maze(3))\n",
    "print()\n",
    "print(chess_maze(2))"
   ]
  },
  {
   "cell_type": "markdown",
   "id": "ff71edfc-ecba-48b9-ab5e-db17021e7b30",
   "metadata": {},
   "source": [
    "## Задание 3\n",
    "Напишите функцию, которая принимает 2 аргумента ``arr`` и ``exclude_values``. ``arr`` - это одномерный нампаевский массив, в котором необходимо поменять знак всем числам (инвертировать), которые есть в массиве ``exclude_values``. Действия необходимо делать прямо в исходном массиве, не создавая копий.\n",
    "\n",
    "**Sample:**\n",
    "```python\n",
    "#Исходный вектор \n",
    "arr = np.arange(10+1)\n",
    "exclude_values = np.arange(4, 8)\n",
    " \n",
    "my_func(arr, exclude_values)\n",
    "array([ 0  1  2  3 -4 -5 -6 -7  8  9 10])\n",
    "```"
   ]
  },
  {
   "cell_type": "code",
   "execution_count": 7,
   "id": "28e738e2-a873-4e3d-bdd0-222506090674",
   "metadata": {},
   "outputs": [],
   "source": [
    "def sign_inversion(arr: np.array, exclude_values: np.array) -> np.array:\n",
    "    \"\"\"\n",
    "    Function inverts signs of given numbers in the array.\n",
    "\n",
    "    :param arr: initial array\n",
    "    :param exclude_values: numbers that should be inverted\n",
    "    :return: changed array\n",
    "    \"\"\"\n",
    "    arr[np.in1d(arr, exclude_values)] *= (-1)\n",
    "\n",
    "    return arr"
   ]
  },
  {
   "cell_type": "code",
   "execution_count": 8,
   "id": "0b5eb32f",
   "metadata": {},
   "outputs": [
    {
     "data": {
      "text/plain": [
       "array([ 0,  1,  2,  3, -4, -5, -6, -7,  8,  9, 10])"
      ]
     },
     "execution_count": 8,
     "metadata": {},
     "output_type": "execute_result"
    }
   ],
   "source": [
    "arr = np.arange(10+1)\n",
    "exclude_values = np.arange(4, 8)\n",
    "\n",
    "sign_inversion(arr, exclude_values)"
   ]
  },
  {
   "cell_type": "code",
   "execution_count": 9,
   "id": "38989f7c",
   "metadata": {},
   "outputs": [
    {
     "name": "stdout",
     "output_type": "stream",
     "text": [
      "[ 1 12  1  8  1  1 16 14 18  9  2 18]\n",
      "[ 5 12  6  7 10  2]\n"
     ]
    },
    {
     "data": {
      "text/plain": [
       "array([  1, -12,   1,   8,   1,   1,  16,  14,  18,   9,  -2,  18])"
      ]
     },
     "execution_count": 9,
     "metadata": {},
     "output_type": "execute_result"
    }
   ],
   "source": [
    "arr = np.random.randint(20, size=12)\n",
    "print(arr)\n",
    "exclude_values = np.random.randint(20, size=6)\n",
    "print(exclude_values)\n",
    "\n",
    "sign_inversion(arr, exclude_values)"
   ]
  },
  {
   "cell_type": "markdown",
   "id": "50fd92a7-30b5-42a1-aed4-a222132496cd",
   "metadata": {},
   "source": [
    "## Задание 4\n",
    "Напишите функцию, которая принимает одномерный положительный нампаевский массив и минимум 4 раза выводит на экран (функция ``print``) этот же массив, в котором у элементов оставлена только целая часть. Все >= 4 раза функция должна использовать разные методы для извлечения целой части.\n",
    "\n",
    "**Sample:**\n",
    "```python\n",
    "#Исходный вектор \n",
    "arr = np.random.uniform(low=10, high=100,size=20)\n",
    "#Исходный вектор arr:\n",
    "arr\n",
    "[99.54707368 49.26237526 80.50565073 10.10998238 16.39378916 60.64633657\n",
    " 25.49637622 31.06574268 94.48636127 73.41204506 75.70638137 70.43830146\n",
    " 72.28607422 40.59319738 57.85802554 35.39428061 55.25707514 48.00020145\n",
    " 38.39449991 26.19085017]\n",
    " \n",
    "my_func(arr)\n",
    "\n",
    "[99. 49. 80. 10. 16. 60. 25. 31. 94. 73. 75. 70. 72. 40. 57. 35. 55. 48.\n",
    " 38. 26.]\n",
    "[99. 49. 80. 10. 16. 60. 25. 31. 94. 73. 75. 70. 72. 40. 57. 35. 55. 48.\n",
    " 38. 26.]\n",
    "[99. 49. 80. 10. 16. 60. 25. 31. 94. 73. 75. 70. 72. 40. 57. 35. 55. 48.\n",
    " 38. 26.]\n",
    "[99 49 80 10 16 60 25 31 94 73 75 70 72 40 57 35 55 48 38 26]\n",
    "[99. 49. 80. 10. 16. 60. 25. 31. 94. 73. 75. 70. 72. 40. 57. 35. 55. 48.\n",
    " 38. 26.]\n",
    "```\n",
    "\n",
    "В примере 5 выводов print из функции, просто чтобы были :)"
   ]
  },
  {
   "cell_type": "code",
   "execution_count": 10,
   "id": "d988e6d5-1e23-411c-a2d0-f5b9f5960b47",
   "metadata": {},
   "outputs": [
    {
     "name": "stdout",
     "output_type": "stream",
     "text": [
      "[99.03934264 49.58543049 65.68916195 94.78720201 10.46596413 41.59820244\n",
      " 72.63583365 25.97110988 63.74615549 62.15314634]\n",
      "\n",
      "[99. 49. 65. 94. 10. 41. 72. 25. 63. 62.]\n",
      "[99. 49. 65. 94. 10. 41. 72. 25. 63. 62.]\n",
      "[99. 49. 65. 94. 10. 41. 72. 25. 63. 62.]\n",
      "[99 49 65 94 10 41 72 25 63 62]\n",
      "[99. 49. 65. 94. 10. 41. 72. 25. 63. 62.]\n"
     ]
    }
   ],
   "source": [
    "def print_int(arr: np.array) -> None:\n",
    "    \"\"\"\n",
    "    Function prints array with integer part of numbers.\n",
    "\n",
    "    :param arr: array with float numbers\n",
    "    :return: None\n",
    "    \"\"\"\n",
    "    print(np.trunc(arr))\n",
    "    print(arr // 1)\n",
    "    print(np.modf(arr)[1])\n",
    "    print(np.int32(arr))\n",
    "    print(np.floor(arr))\n",
    "\n",
    "\n",
    "arr = np.random.uniform(low=10, high=100,size=10)\n",
    "print(arr)\n",
    "print()\n",
    "print_int(arr)"
   ]
  },
  {
   "cell_type": "markdown",
   "id": "e19786ad-aede-4f06-96b8-fb6f60e7bcf7",
   "metadata": {},
   "source": [
    "## Задание 5\n",
    "Напишите функцию, которая принимает два числа - ``N`` и ``p``. ``N`` - это размер стороны квадратной матрицы np.zeros, ``p`` - это количество индексов в матрице (p не превышает N*N), которые нужно заменить на случайные числа. Индексы и числа нужно выбирать случайно. Функция должна возвращать квадратную матрицу со стороной ``N``, в которой ровно ``p`` чисел заменены на случайные.\n",
    "\n",
    "```python\n",
    "my_func(N=6, p=4)\n",
    "\n",
    "[[56.   0.   0.   0.   0.   0.]\n",
    " [  0.   0.   0.   0.   0.   0.]\n",
    " [99.   0.   0.   0.   0.   0.]\n",
    " [  0.   0.   0. 83.   0.   0.]\n",
    " [  0.   0.   0.   0.   0.   0.]\n",
    " [  0.   0.   0.   0.   1.   0.]]\n",
    "```"
   ]
  },
  {
   "cell_type": "code",
   "execution_count": 11,
   "id": "45bdea7a",
   "metadata": {},
   "outputs": [],
   "source": [
    "def change_array(n: int, p: int) -> np.array:\n",
    "    \"\"\"\n",
    "    Function changes given number of elements in the array.\n",
    "\n",
    "    :param n: size of array\n",
    "    :param p: number of indices that should be changed\n",
    "    :return: changed array\n",
    "    \"\"\"\n",
    "    try:\n",
    "        arr = np.zeros((n, n), dtype=np.int8).flatten()\n",
    "        ind_list = np.arange(n * n)\n",
    "        # Randomly choose given number of indices\n",
    "        ind = np.random.choice(ind_list, size=p, replace=False)\n",
    "\n",
    "        # Loop replaces given indices by random numbers\n",
    "        for i in ind:\n",
    "            arr[i] = np.random.randint(1, 100)\n",
    "    except ValueError:\n",
    "        print(\"Number of indices (p) can't be greater than n*n\")\n",
    "\n",
    "    return arr.reshape(n, n)"
   ]
  },
  {
   "cell_type": "code",
   "execution_count": 12,
   "id": "17bf0bcb",
   "metadata": {},
   "outputs": [
    {
     "data": {
      "text/plain": [
       "array([[ 0,  0,  0,  0, 95,  0],\n",
       "       [ 0,  0,  0,  0,  0,  0],\n",
       "       [ 0,  0, 81, 54,  0,  0],\n",
       "       [ 0,  0,  0,  0,  0,  0],\n",
       "       [ 0,  0, 15,  0,  0,  0],\n",
       "       [ 0,  0,  0,  0,  0,  0]], dtype=int8)"
      ]
     },
     "execution_count": 12,
     "metadata": {},
     "output_type": "execute_result"
    }
   ],
   "source": [
    "change_array(n=6, p=4)"
   ]
  },
  {
   "cell_type": "code",
   "execution_count": 13,
   "id": "f8bddf33",
   "metadata": {},
   "outputs": [
    {
     "data": {
      "text/plain": [
       "array([[24, 31, 95,  1],\n",
       "       [82, 81, 73, 21],\n",
       "       [99, 75, 70, 75],\n",
       "       [18,  2, 12,  1]], dtype=int8)"
      ]
     },
     "execution_count": 13,
     "metadata": {},
     "output_type": "execute_result"
    }
   ],
   "source": [
    "change_array(n=4, p=16)"
   ]
  },
  {
   "cell_type": "code",
   "execution_count": 14,
   "id": "b9452e24",
   "metadata": {},
   "outputs": [
    {
     "name": "stdout",
     "output_type": "stream",
     "text": [
      "Number of indices (p) can't be greater than n*n\n"
     ]
    }
   ],
   "source": [
    "change_array(n=6, p=40)"
   ]
  },
  {
   "cell_type": "markdown",
   "id": "ea6147b4-ea16-48e8-86f9-20bc90849b68",
   "metadata": {},
   "source": [
    "# Pandas"
   ]
  },
  {
   "cell_type": "code",
   "execution_count": 15,
   "id": "036794bd-1340-4341-93f2-4c7eda7e011c",
   "metadata": {},
   "outputs": [],
   "source": [
    "import pandas as pd"
   ]
  },
  {
   "cell_type": "markdown",
   "id": "feed93bf-9c0e-443e-9812-f3d88f526be4",
   "metadata": {},
   "source": [
    "# Задание 6\n",
    "\n",
    "Любым удобным для вас способом создайте ``dataframe`` c именем ``my_data``, в котором две колонки c именами (``type`` - строки, ``value`` - числа с плавающей точкой) и четыре наблюдения в каждой колонке:\n",
    "\n",
    "```\n",
    "type value\n",
    "B    18.\n",
    "\n",
    "B    20.\n",
    "\n",
    "C    10.\n",
    "\n",
    "C    -10.\n",
    "```\n",
    "\n",
    "Какой размер созданного вами датафрейма? (Подумайте, что лучше использовать - информацию из метода df.info() или информацию из метода df.memory_usage()?)\n",
    "1) Измените тип данных колонки type на category. Как изменился размер датафрейма?\n",
    "2) Измените тип данных колонки value на менее жадный. Как изменился размер датафрейма?"
   ]
  },
  {
   "cell_type": "code",
   "execution_count": 16,
   "id": "55453b06-c034-4ad4-9350-c9bfdeb5acef",
   "metadata": {},
   "outputs": [
    {
     "data": {
      "text/html": [
       "<div>\n",
       "<style scoped>\n",
       "    .dataframe tbody tr th:only-of-type {\n",
       "        vertical-align: middle;\n",
       "    }\n",
       "\n",
       "    .dataframe tbody tr th {\n",
       "        vertical-align: top;\n",
       "    }\n",
       "\n",
       "    .dataframe thead th {\n",
       "        text-align: right;\n",
       "    }\n",
       "</style>\n",
       "<table border=\"1\" class=\"dataframe\">\n",
       "  <thead>\n",
       "    <tr style=\"text-align: right;\">\n",
       "      <th></th>\n",
       "      <th>type</th>\n",
       "      <th>value</th>\n",
       "    </tr>\n",
       "  </thead>\n",
       "  <tbody>\n",
       "    <tr>\n",
       "      <th>0</th>\n",
       "      <td>B</td>\n",
       "      <td>18.0</td>\n",
       "    </tr>\n",
       "    <tr>\n",
       "      <th>1</th>\n",
       "      <td>B</td>\n",
       "      <td>20.0</td>\n",
       "    </tr>\n",
       "    <tr>\n",
       "      <th>2</th>\n",
       "      <td>C</td>\n",
       "      <td>10.0</td>\n",
       "    </tr>\n",
       "    <tr>\n",
       "      <th>3</th>\n",
       "      <td>C</td>\n",
       "      <td>-10.0</td>\n",
       "    </tr>\n",
       "  </tbody>\n",
       "</table>\n",
       "</div>"
      ],
      "text/plain": [
       "  type  value\n",
       "0    B   18.0\n",
       "1    B   20.0\n",
       "2    C   10.0\n",
       "3    C  -10.0"
      ]
     },
     "metadata": {},
     "output_type": "display_data"
    },
    {
     "name": "stdout",
     "output_type": "stream",
     "text": [
      "<class 'pandas.core.frame.DataFrame'>\n",
      "RangeIndex: 4 entries, 0 to 3\n",
      "Data columns (total 2 columns):\n",
      " #   Column  Non-Null Count  Dtype  \n",
      "---  ------  --------------  -----  \n",
      " 0   type    4 non-null      object \n",
      " 1   value   4 non-null      float64\n",
      "dtypes: float64(1), object(1)\n",
      "memory usage: 192.0+ bytes\n"
     ]
    },
    {
     "data": {
      "text/plain": [
       "None"
      ]
     },
     "metadata": {},
     "output_type": "display_data"
    },
    {
     "data": {
      "text/plain": [
       "Index    128\n",
       "type      32\n",
       "value     32\n",
       "dtype: int64"
      ]
     },
     "metadata": {},
     "output_type": "display_data"
    }
   ],
   "source": [
    "my_data = pd.DataFrame({\n",
    "    'type': ['B', 'B', 'C', 'C'],\n",
    "    'value': [18., 20, 10, -10]\n",
    "})\n",
    "\n",
    "display(my_data)\n",
    "# Более информативно df.info() - размер 192 байта\n",
    "display(my_data.info())\n",
    "display(my_data.memory_usage())"
   ]
  },
  {
   "cell_type": "code",
   "execution_count": 17,
   "id": "100c594a",
   "metadata": {},
   "outputs": [
    {
     "name": "stdout",
     "output_type": "stream",
     "text": [
      "<class 'pandas.core.frame.DataFrame'>\n",
      "RangeIndex: 4 entries, 0 to 3\n",
      "Data columns (total 2 columns):\n",
      " #   Column  Non-Null Count  Dtype   \n",
      "---  ------  --------------  -----   \n",
      " 0   type    4 non-null      category\n",
      " 1   value   4 non-null      float64 \n",
      "dtypes: category(1), float64(1)\n",
      "memory usage: 288.0 bytes\n"
     ]
    }
   ],
   "source": [
    "my_data['type'] = my_data['type'].astype('category')\n",
    "\n",
    "# Размер датафрейма увеличился\n",
    "my_data.info()"
   ]
  },
  {
   "cell_type": "code",
   "execution_count": 18,
   "id": "19d42643",
   "metadata": {},
   "outputs": [
    {
     "name": "stdout",
     "output_type": "stream",
     "text": [
      "<class 'pandas.core.frame.DataFrame'>\n",
      "RangeIndex: 4 entries, 0 to 3\n",
      "Data columns (total 2 columns):\n",
      " #   Column  Non-Null Count  Dtype   \n",
      "---  ------  --------------  -----   \n",
      " 0   type    4 non-null      category\n",
      " 1   value   4 non-null      int64   \n",
      "dtypes: category(1), int64(1)\n",
      "memory usage: 288.0 bytes\n"
     ]
    }
   ],
   "source": [
    "my_data['value'] = my_data['value'].astype('int64')\n",
    "\n",
    "# Размер датафрейма не изменился\n",
    "my_data.info()"
   ]
  },
  {
   "cell_type": "markdown",
   "id": "b5c49f07-2954-43af-89e4-2df23e216af8",
   "metadata": {},
   "source": [
    "# Задание 7\n",
    "Любым удобным для вас способом создайте ``dataframe`` c именем ``my_data``, в котором две колонки c именами (``type`` - строки, ``value`` - числа с плавающей точкой) и десять тысяч (10 000) наблюдений в каждой колонке. В колонке ``type`` должно быть 10 уникальных значений.\n",
    "\n",
    "```python\n",
    "my_data.shape\n",
    "____________\n",
    "(10000, 2)\n",
    "```\n",
    "\n",
    "Какой размер созданного вами датафрейма? (Подумайте, что лучше использовать - информацию из метода df.info() или информацию из метода df.memory_usage()?)\n",
    "1) Измените тип данных колонки type на category. Как изменился размер датафрейма?\n",
    "2) Измените тип данных колонки value на менее жадный. Как изменился размер датафрейма?\n",
    "\n",
    "Во сколько раз уменьшился размер исходного датафрейма после выполнения этих двух операций?"
   ]
  },
  {
   "cell_type": "code",
   "execution_count": 19,
   "id": "7ce31b7d-7367-4c4a-b7ca-e7b837fda604",
   "metadata": {},
   "outputs": [
    {
     "data": {
      "text/html": [
       "<div>\n",
       "<style scoped>\n",
       "    .dataframe tbody tr th:only-of-type {\n",
       "        vertical-align: middle;\n",
       "    }\n",
       "\n",
       "    .dataframe tbody tr th {\n",
       "        vertical-align: top;\n",
       "    }\n",
       "\n",
       "    .dataframe thead th {\n",
       "        text-align: right;\n",
       "    }\n",
       "</style>\n",
       "<table border=\"1\" class=\"dataframe\">\n",
       "  <thead>\n",
       "    <tr style=\"text-align: right;\">\n",
       "      <th></th>\n",
       "      <th>type</th>\n",
       "      <th>value</th>\n",
       "    </tr>\n",
       "  </thead>\n",
       "  <tbody>\n",
       "    <tr>\n",
       "      <th>0</th>\n",
       "      <td>E</td>\n",
       "      <td>421.979666</td>\n",
       "    </tr>\n",
       "    <tr>\n",
       "      <th>1</th>\n",
       "      <td>E</td>\n",
       "      <td>751.750327</td>\n",
       "    </tr>\n",
       "    <tr>\n",
       "      <th>2</th>\n",
       "      <td>I</td>\n",
       "      <td>758.751048</td>\n",
       "    </tr>\n",
       "    <tr>\n",
       "      <th>3</th>\n",
       "      <td>H</td>\n",
       "      <td>354.331069</td>\n",
       "    </tr>\n",
       "    <tr>\n",
       "      <th>4</th>\n",
       "      <td>D</td>\n",
       "      <td>485.684047</td>\n",
       "    </tr>\n",
       "    <tr>\n",
       "      <th>...</th>\n",
       "      <td>...</td>\n",
       "      <td>...</td>\n",
       "    </tr>\n",
       "    <tr>\n",
       "      <th>9995</th>\n",
       "      <td>A</td>\n",
       "      <td>98.506362</td>\n",
       "    </tr>\n",
       "    <tr>\n",
       "      <th>9996</th>\n",
       "      <td>C</td>\n",
       "      <td>583.070249</td>\n",
       "    </tr>\n",
       "    <tr>\n",
       "      <th>9997</th>\n",
       "      <td>A</td>\n",
       "      <td>553.320215</td>\n",
       "    </tr>\n",
       "    <tr>\n",
       "      <th>9998</th>\n",
       "      <td>G</td>\n",
       "      <td>924.220244</td>\n",
       "    </tr>\n",
       "    <tr>\n",
       "      <th>9999</th>\n",
       "      <td>G</td>\n",
       "      <td>834.397234</td>\n",
       "    </tr>\n",
       "  </tbody>\n",
       "</table>\n",
       "<p>10000 rows × 2 columns</p>\n",
       "</div>"
      ],
      "text/plain": [
       "     type       value\n",
       "0       E  421.979666\n",
       "1       E  751.750327\n",
       "2       I  758.751048\n",
       "3       H  354.331069\n",
       "4       D  485.684047\n",
       "...   ...         ...\n",
       "9995    A   98.506362\n",
       "9996    C  583.070249\n",
       "9997    A  553.320215\n",
       "9998    G  924.220244\n",
       "9999    G  834.397234\n",
       "\n",
       "[10000 rows x 2 columns]"
      ]
     },
     "execution_count": 19,
     "metadata": {},
     "output_type": "execute_result"
    }
   ],
   "source": [
    "types = ['A', 'B', 'C', 'D', 'E', 'F', 'G', 'H', 'I', 'J']\n",
    "\n",
    "my_data = pd.DataFrame({\n",
    "    'type': np.random.choice(types, size=10000),\n",
    "    'value': np.random.uniform(10, 1000, size=10000)\n",
    "})\n",
    "\n",
    "my_data"
   ]
  },
  {
   "cell_type": "code",
   "execution_count": 20,
   "id": "95977e5f",
   "metadata": {},
   "outputs": [
    {
     "name": "stdout",
     "output_type": "stream",
     "text": [
      "<class 'pandas.core.frame.DataFrame'>\n",
      "RangeIndex: 10000 entries, 0 to 9999\n",
      "Data columns (total 2 columns):\n",
      " #   Column  Non-Null Count  Dtype  \n",
      "---  ------  --------------  -----  \n",
      " 0   type    10000 non-null  object \n",
      " 1   value   10000 non-null  float64\n",
      "dtypes: float64(1), object(1)\n",
      "memory usage: 156.4+ KB\n"
     ]
    }
   ],
   "source": [
    "# Более информативно df.info()\n",
    "my_data.info()"
   ]
  },
  {
   "cell_type": "code",
   "execution_count": 21,
   "id": "5d86b09e",
   "metadata": {},
   "outputs": [
    {
     "name": "stdout",
     "output_type": "stream",
     "text": [
      "<class 'pandas.core.frame.DataFrame'>\n",
      "RangeIndex: 10000 entries, 0 to 9999\n",
      "Data columns (total 2 columns):\n",
      " #   Column  Non-Null Count  Dtype   \n",
      "---  ------  --------------  -----   \n",
      " 0   type    10000 non-null  category\n",
      " 1   value   10000 non-null  float64 \n",
      "dtypes: category(1), float64(1)\n",
      "memory usage: 88.4 KB\n"
     ]
    }
   ],
   "source": [
    "my_data['type'] = my_data['type'].astype('category')\n",
    "\n",
    "# Размер датафрейма уменьшился в 2 раза\n",
    "my_data.info()"
   ]
  },
  {
   "cell_type": "code",
   "execution_count": 22,
   "id": "c283c91b",
   "metadata": {},
   "outputs": [
    {
     "name": "stdout",
     "output_type": "stream",
     "text": [
      "<class 'pandas.core.frame.DataFrame'>\n",
      "RangeIndex: 10000 entries, 0 to 9999\n",
      "Data columns (total 2 columns):\n",
      " #   Column  Non-Null Count  Dtype   \n",
      "---  ------  --------------  -----   \n",
      " 0   type    10000 non-null  category\n",
      " 1   value   10000 non-null  int64   \n",
      "dtypes: category(1), int64(1)\n",
      "memory usage: 88.4 KB\n"
     ]
    }
   ],
   "source": [
    "my_data['value'] = my_data['value'].astype('int64')\n",
    "\n",
    "# Размер датафрейма дополнительно не изменился\n",
    "my_data.info()"
   ]
  },
  {
   "cell_type": "markdown",
   "id": "d1614009-c31c-494c-9b7e-010b3fca3adc",
   "metadata": {},
   "source": [
    "#### Для решения дальнейших задач мы будем использовать следующий датасет, загрузите его с помощью команды:"
   ]
  },
  {
   "cell_type": "code",
   "execution_count": 23,
   "id": "9de2ceb8-28bf-4f4f-a67c-5c3cf17d09e9",
   "metadata": {},
   "outputs": [],
   "source": [
    "df = pd.read_csv('https://stepik.org/media/attachments/course/4852/my_stat.csv')"
   ]
  },
  {
   "cell_type": "code",
   "execution_count": 24,
   "id": "bcf8eca6-4c68-43a9-a250-7b2b0aba6a92",
   "metadata": {},
   "outputs": [
    {
     "data": {
      "text/html": [
       "<div>\n",
       "<style scoped>\n",
       "    .dataframe tbody tr th:only-of-type {\n",
       "        vertical-align: middle;\n",
       "    }\n",
       "\n",
       "    .dataframe tbody tr th {\n",
       "        vertical-align: top;\n",
       "    }\n",
       "\n",
       "    .dataframe thead th {\n",
       "        text-align: right;\n",
       "    }\n",
       "</style>\n",
       "<table border=\"1\" class=\"dataframe\">\n",
       "  <thead>\n",
       "    <tr style=\"text-align: right;\">\n",
       "      <th></th>\n",
       "      <th>V1</th>\n",
       "      <th>V2</th>\n",
       "      <th>V3</th>\n",
       "      <th>V4</th>\n",
       "    </tr>\n",
       "  </thead>\n",
       "  <tbody>\n",
       "    <tr>\n",
       "      <th>0</th>\n",
       "      <td>2</td>\n",
       "      <td>13.0</td>\n",
       "      <td>B</td>\n",
       "      <td>1.0</td>\n",
       "    </tr>\n",
       "    <tr>\n",
       "      <th>1</th>\n",
       "      <td>-1</td>\n",
       "      <td>7.0</td>\n",
       "      <td>B</td>\n",
       "      <td>1.0</td>\n",
       "    </tr>\n",
       "    <tr>\n",
       "      <th>2</th>\n",
       "      <td>0</td>\n",
       "      <td>11.0</td>\n",
       "      <td>A</td>\n",
       "      <td>0.0</td>\n",
       "    </tr>\n",
       "    <tr>\n",
       "      <th>3</th>\n",
       "      <td>2</td>\n",
       "      <td>11.0</td>\n",
       "      <td>A</td>\n",
       "      <td>2.0</td>\n",
       "    </tr>\n",
       "    <tr>\n",
       "      <th>4</th>\n",
       "      <td>0</td>\n",
       "      <td>10.0</td>\n",
       "      <td>B</td>\n",
       "      <td>-1.0</td>\n",
       "    </tr>\n",
       "    <tr>\n",
       "      <th>...</th>\n",
       "      <td>...</td>\n",
       "      <td>...</td>\n",
       "      <td>...</td>\n",
       "      <td>...</td>\n",
       "    </tr>\n",
       "    <tr>\n",
       "      <th>495</th>\n",
       "      <td>1</td>\n",
       "      <td>8.0</td>\n",
       "      <td>A</td>\n",
       "      <td>-1.0</td>\n",
       "    </tr>\n",
       "    <tr>\n",
       "      <th>496</th>\n",
       "      <td>3</td>\n",
       "      <td>8.0</td>\n",
       "      <td>A</td>\n",
       "      <td>1.0</td>\n",
       "    </tr>\n",
       "    <tr>\n",
       "      <th>497</th>\n",
       "      <td>-1</td>\n",
       "      <td>11.0</td>\n",
       "      <td>B</td>\n",
       "      <td>2.0</td>\n",
       "    </tr>\n",
       "    <tr>\n",
       "      <th>498</th>\n",
       "      <td>1</td>\n",
       "      <td>11.0</td>\n",
       "      <td>A</td>\n",
       "      <td>2.0</td>\n",
       "    </tr>\n",
       "    <tr>\n",
       "      <th>499</th>\n",
       "      <td>0</td>\n",
       "      <td>8.0</td>\n",
       "      <td>B</td>\n",
       "      <td>1.0</td>\n",
       "    </tr>\n",
       "  </tbody>\n",
       "</table>\n",
       "<p>500 rows × 4 columns</p>\n",
       "</div>"
      ],
      "text/plain": [
       "     V1    V2 V3   V4\n",
       "0     2  13.0  B  1.0\n",
       "1    -1   7.0  B  1.0\n",
       "2     0  11.0  A  0.0\n",
       "3     2  11.0  A  2.0\n",
       "4     0  10.0  B -1.0\n",
       "..   ..   ... ..  ...\n",
       "495   1   8.0  A -1.0\n",
       "496   3   8.0  A  1.0\n",
       "497  -1  11.0  B  2.0\n",
       "498   1  11.0  A  2.0\n",
       "499   0   8.0  B  1.0\n",
       "\n",
       "[500 rows x 4 columns]"
      ]
     },
     "execution_count": 24,
     "metadata": {},
     "output_type": "execute_result"
    }
   ],
   "source": [
    "df"
   ]
  },
  {
   "cell_type": "markdown",
   "id": "02e37431-e600-4bf5-bfcf-5641bfcaccd8",
   "metadata": {},
   "source": [
    "Примечание: все операции с исходным датафреймом должны быть ``inplace``. То есть исходный датафрейм в переменной ``df`` **должен** измениться"
   ]
  },
  {
   "cell_type": "markdown",
   "id": "25499d55-3c26-4f2e-b642-e05f94341d69",
   "metadata": {},
   "source": [
    "# Задание 8\n",
    "\n",
    "В переменную с именем subset_1 сохраните только первые 19 строк и только 1 и 3 колонку.\n",
    "\n",
    "В переменную с именем subset_2 сохраните все строки кроме 2, 3 и 18 и только 2 и 4 колонку."
   ]
  },
  {
   "cell_type": "code",
   "execution_count": 25,
   "id": "0e4b85c0-946b-4d65-a2f4-9940f5149cc7",
   "metadata": {},
   "outputs": [],
   "source": [
    "subset_1 = df.iloc[:19, [0, 2]]\n",
    "\n",
    "subset_2 = df[\n",
    "    (df.index != 1) \n",
    "    & (df.index != 2) \n",
    "    & (df.index != 17)\n",
    "].iloc[:, [1, 3]]"
   ]
  },
  {
   "cell_type": "markdown",
   "id": "57db07ab-f016-4340-880b-cd640e789407",
   "metadata": {},
   "source": [
    "# Задание 9\n",
    "\n",
    "В переменную subset_3 сохраните только те наблюдения, у которых значения переменной V1 строго больше 0, и значение переменной V3  равняется 'A'.\n",
    "\n",
    "В переменную  subset_4  сохраните только те наблюдения, у которых значения переменной V2  не равняются 10, или значения переменной V4 больше или равно 1."
   ]
  },
  {
   "cell_type": "code",
   "execution_count": 26,
   "id": "a9a7558d-14f9-4a64-9b1f-9a77ab52304c",
   "metadata": {},
   "outputs": [],
   "source": [
    "subset_3 = df[\n",
    "    (df['V1'] > 0) \n",
    "    & (df['V3'] == 'A')\n",
    "]\n",
    "\n",
    "subset_4 = df[\n",
    "    (df['V2'] != 10) \n",
    "    | (df['V4'] >= 1)\n",
    "]"
   ]
  },
  {
   "cell_type": "markdown",
   "id": "002c85bb-122e-47c0-8016-64afd80ce988",
   "metadata": {},
   "source": [
    "# Задание 10\n",
    "Добавьте следующие колонки в df:\n",
    "\n",
    "1) V5 = V1 + V4\n",
    "2) V6 = **натуральный** логарифм переменной V2"
   ]
  },
  {
   "cell_type": "code",
   "execution_count": 27,
   "id": "d99e49b2-3213-4a6b-9eb8-97118175d9b1",
   "metadata": {},
   "outputs": [
    {
     "data": {
      "text/html": [
       "<div>\n",
       "<style scoped>\n",
       "    .dataframe tbody tr th:only-of-type {\n",
       "        vertical-align: middle;\n",
       "    }\n",
       "\n",
       "    .dataframe tbody tr th {\n",
       "        vertical-align: top;\n",
       "    }\n",
       "\n",
       "    .dataframe thead th {\n",
       "        text-align: right;\n",
       "    }\n",
       "</style>\n",
       "<table border=\"1\" class=\"dataframe\">\n",
       "  <thead>\n",
       "    <tr style=\"text-align: right;\">\n",
       "      <th></th>\n",
       "      <th>V1</th>\n",
       "      <th>V2</th>\n",
       "      <th>V3</th>\n",
       "      <th>V4</th>\n",
       "      <th>V5</th>\n",
       "    </tr>\n",
       "  </thead>\n",
       "  <tbody>\n",
       "    <tr>\n",
       "      <th>0</th>\n",
       "      <td>2</td>\n",
       "      <td>13.0</td>\n",
       "      <td>B</td>\n",
       "      <td>1.0</td>\n",
       "      <td>3.0</td>\n",
       "    </tr>\n",
       "    <tr>\n",
       "      <th>1</th>\n",
       "      <td>-1</td>\n",
       "      <td>7.0</td>\n",
       "      <td>B</td>\n",
       "      <td>1.0</td>\n",
       "      <td>0.0</td>\n",
       "    </tr>\n",
       "    <tr>\n",
       "      <th>2</th>\n",
       "      <td>0</td>\n",
       "      <td>11.0</td>\n",
       "      <td>A</td>\n",
       "      <td>0.0</td>\n",
       "      <td>0.0</td>\n",
       "    </tr>\n",
       "  </tbody>\n",
       "</table>\n",
       "</div>"
      ],
      "text/plain": [
       "   V1    V2 V3   V4   V5\n",
       "0   2  13.0  B  1.0  3.0\n",
       "1  -1   7.0  B  1.0  0.0\n",
       "2   0  11.0  A  0.0  0.0"
      ]
     },
     "execution_count": 27,
     "metadata": {},
     "output_type": "execute_result"
    }
   ],
   "source": [
    "df['V5'] = df['V1'] + df['V4']\n",
    "df.head(3)"
   ]
  },
  {
   "cell_type": "code",
   "execution_count": 28,
   "id": "4b26eee9",
   "metadata": {},
   "outputs": [
    {
     "data": {
      "text/html": [
       "<div>\n",
       "<style scoped>\n",
       "    .dataframe tbody tr th:only-of-type {\n",
       "        vertical-align: middle;\n",
       "    }\n",
       "\n",
       "    .dataframe tbody tr th {\n",
       "        vertical-align: top;\n",
       "    }\n",
       "\n",
       "    .dataframe thead th {\n",
       "        text-align: right;\n",
       "    }\n",
       "</style>\n",
       "<table border=\"1\" class=\"dataframe\">\n",
       "  <thead>\n",
       "    <tr style=\"text-align: right;\">\n",
       "      <th></th>\n",
       "      <th>V1</th>\n",
       "      <th>V2</th>\n",
       "      <th>V3</th>\n",
       "      <th>V4</th>\n",
       "      <th>V5</th>\n",
       "      <th>V6</th>\n",
       "    </tr>\n",
       "  </thead>\n",
       "  <tbody>\n",
       "    <tr>\n",
       "      <th>0</th>\n",
       "      <td>2</td>\n",
       "      <td>13.0</td>\n",
       "      <td>B</td>\n",
       "      <td>1.0</td>\n",
       "      <td>3.0</td>\n",
       "      <td>2.564949</td>\n",
       "    </tr>\n",
       "    <tr>\n",
       "      <th>1</th>\n",
       "      <td>-1</td>\n",
       "      <td>7.0</td>\n",
       "      <td>B</td>\n",
       "      <td>1.0</td>\n",
       "      <td>0.0</td>\n",
       "      <td>1.945910</td>\n",
       "    </tr>\n",
       "    <tr>\n",
       "      <th>2</th>\n",
       "      <td>0</td>\n",
       "      <td>11.0</td>\n",
       "      <td>A</td>\n",
       "      <td>0.0</td>\n",
       "      <td>0.0</td>\n",
       "      <td>2.397895</td>\n",
       "    </tr>\n",
       "  </tbody>\n",
       "</table>\n",
       "</div>"
      ],
      "text/plain": [
       "   V1    V2 V3   V4   V5        V6\n",
       "0   2  13.0  B  1.0  3.0  2.564949\n",
       "1  -1   7.0  B  1.0  0.0  1.945910\n",
       "2   0  11.0  A  0.0  0.0  2.397895"
      ]
     },
     "execution_count": 28,
     "metadata": {},
     "output_type": "execute_result"
    }
   ],
   "source": [
    "df['V6'] = np.log(df['V2'])\n",
    "df.head(3)"
   ]
  },
  {
   "cell_type": "markdown",
   "id": "68231357-e61c-4cd8-aa11-81cde18b856c",
   "metadata": {},
   "source": [
    "# Задание 11\n",
    "\n",
    "Переименуйте колонки в df.\n",
    "\n",
    "1) V1 -> session_value\n",
    "\n",
    "2) V2 -> group\n",
    "\n",
    "3) V3 -> time\n",
    "\n",
    "4) V4 -> n_users"
   ]
  },
  {
   "cell_type": "code",
   "execution_count": 29,
   "id": "d92e15a0-8cf7-4f99-bb84-3b45b36d6c8d",
   "metadata": {},
   "outputs": [
    {
     "data": {
      "text/html": [
       "<div>\n",
       "<style scoped>\n",
       "    .dataframe tbody tr th:only-of-type {\n",
       "        vertical-align: middle;\n",
       "    }\n",
       "\n",
       "    .dataframe tbody tr th {\n",
       "        vertical-align: top;\n",
       "    }\n",
       "\n",
       "    .dataframe thead th {\n",
       "        text-align: right;\n",
       "    }\n",
       "</style>\n",
       "<table border=\"1\" class=\"dataframe\">\n",
       "  <thead>\n",
       "    <tr style=\"text-align: right;\">\n",
       "      <th></th>\n",
       "      <th>session_value</th>\n",
       "      <th>group</th>\n",
       "      <th>time</th>\n",
       "      <th>n_users</th>\n",
       "      <th>V5</th>\n",
       "      <th>V6</th>\n",
       "    </tr>\n",
       "  </thead>\n",
       "  <tbody>\n",
       "    <tr>\n",
       "      <th>0</th>\n",
       "      <td>2</td>\n",
       "      <td>13.0</td>\n",
       "      <td>B</td>\n",
       "      <td>1.0</td>\n",
       "      <td>3.0</td>\n",
       "      <td>2.564949</td>\n",
       "    </tr>\n",
       "    <tr>\n",
       "      <th>1</th>\n",
       "      <td>-1</td>\n",
       "      <td>7.0</td>\n",
       "      <td>B</td>\n",
       "      <td>1.0</td>\n",
       "      <td>0.0</td>\n",
       "      <td>1.945910</td>\n",
       "    </tr>\n",
       "  </tbody>\n",
       "</table>\n",
       "</div>"
      ],
      "text/plain": [
       "   session_value  group time  n_users   V5        V6\n",
       "0              2   13.0    B      1.0  3.0  2.564949\n",
       "1             -1    7.0    B      1.0  0.0  1.945910"
      ]
     },
     "execution_count": 29,
     "metadata": {},
     "output_type": "execute_result"
    }
   ],
   "source": [
    "df.rename(columns = {\n",
    "    'V1': 'session_value',\n",
    "    'V2': 'group',\n",
    "    'V3': 'time',\n",
    "    'V4': 'n_users'\n",
    "}, inplace=True\n",
    ")\n",
    "\n",
    "df.head(2)"
   ]
  },
  {
   "cell_type": "markdown",
   "id": "855d8eb1-d7b2-4908-a404-cfeac1dcf3c0",
   "metadata": {},
   "source": [
    "# Задание 12\n",
    "В датафрейме ``my_stat`` в колонке ``session_value`` замените все пропущенные значения на нули.\n",
    "\n",
    "В колонке ``n_users`` замените все отрицательные значения на медианное значение переменной ``n_users`` (без учета отрицательных значений, разумеется)."
   ]
  },
  {
   "cell_type": "code",
   "execution_count": 30,
   "id": "aa82b450-9804-44f0-8c37-7d1247850132",
   "metadata": {},
   "outputs": [],
   "source": [
    "my_stat = pd.read_csv('https://stepik.org/media/attachments/course/4852/my_stat_1.csv')"
   ]
  },
  {
   "cell_type": "code",
   "execution_count": 31,
   "id": "0ce858ba-5a46-4355-8e02-4051d1c7bf92",
   "metadata": {},
   "outputs": [
    {
     "data": {
      "text/html": [
       "<div>\n",
       "<style scoped>\n",
       "    .dataframe tbody tr th:only-of-type {\n",
       "        vertical-align: middle;\n",
       "    }\n",
       "\n",
       "    .dataframe tbody tr th {\n",
       "        vertical-align: top;\n",
       "    }\n",
       "\n",
       "    .dataframe thead th {\n",
       "        text-align: right;\n",
       "    }\n",
       "</style>\n",
       "<table border=\"1\" class=\"dataframe\">\n",
       "  <thead>\n",
       "    <tr style=\"text-align: right;\">\n",
       "      <th></th>\n",
       "      <th>session_value</th>\n",
       "      <th>time</th>\n",
       "      <th>group</th>\n",
       "      <th>n_users</th>\n",
       "    </tr>\n",
       "  </thead>\n",
       "  <tbody>\n",
       "    <tr>\n",
       "      <th>0</th>\n",
       "      <td>0.0</td>\n",
       "      <td>12</td>\n",
       "      <td>B</td>\n",
       "      <td>9</td>\n",
       "    </tr>\n",
       "    <tr>\n",
       "      <th>1</th>\n",
       "      <td>NaN</td>\n",
       "      <td>11</td>\n",
       "      <td>A</td>\n",
       "      <td>-1</td>\n",
       "    </tr>\n",
       "    <tr>\n",
       "      <th>2</th>\n",
       "      <td>1.0</td>\n",
       "      <td>8</td>\n",
       "      <td>A</td>\n",
       "      <td>1</td>\n",
       "    </tr>\n",
       "    <tr>\n",
       "      <th>3</th>\n",
       "      <td>2.0</td>\n",
       "      <td>9</td>\n",
       "      <td>B</td>\n",
       "      <td>3</td>\n",
       "    </tr>\n",
       "    <tr>\n",
       "      <th>4</th>\n",
       "      <td>2.0</td>\n",
       "      <td>10</td>\n",
       "      <td>B</td>\n",
       "      <td>9</td>\n",
       "    </tr>\n",
       "    <tr>\n",
       "      <th>5</th>\n",
       "      <td>3.0</td>\n",
       "      <td>8</td>\n",
       "      <td>A</td>\n",
       "      <td>8</td>\n",
       "    </tr>\n",
       "    <tr>\n",
       "      <th>6</th>\n",
       "      <td>NaN</td>\n",
       "      <td>11</td>\n",
       "      <td>B</td>\n",
       "      <td>5</td>\n",
       "    </tr>\n",
       "    <tr>\n",
       "      <th>7</th>\n",
       "      <td>0.0</td>\n",
       "      <td>9</td>\n",
       "      <td>A</td>\n",
       "      <td>4</td>\n",
       "    </tr>\n",
       "    <tr>\n",
       "      <th>8</th>\n",
       "      <td>0.0</td>\n",
       "      <td>8</td>\n",
       "      <td>B</td>\n",
       "      <td>-11</td>\n",
       "    </tr>\n",
       "    <tr>\n",
       "      <th>9</th>\n",
       "      <td>0.0</td>\n",
       "      <td>9</td>\n",
       "      <td>A</td>\n",
       "      <td>-20</td>\n",
       "    </tr>\n",
       "  </tbody>\n",
       "</table>\n",
       "</div>"
      ],
      "text/plain": [
       "   session_value  time group  n_users\n",
       "0            0.0    12     B        9\n",
       "1            NaN    11     A       -1\n",
       "2            1.0     8     A        1\n",
       "3            2.0     9     B        3\n",
       "4            2.0    10     B        9\n",
       "5            3.0     8     A        8\n",
       "6            NaN    11     B        5\n",
       "7            0.0     9     A        4\n",
       "8            0.0     8     B      -11\n",
       "9            0.0     9     A      -20"
      ]
     },
     "execution_count": 31,
     "metadata": {},
     "output_type": "execute_result"
    }
   ],
   "source": [
    "my_stat"
   ]
  },
  {
   "cell_type": "code",
   "execution_count": 32,
   "id": "3211bae3",
   "metadata": {},
   "outputs": [
    {
     "data": {
      "text/html": [
       "<div>\n",
       "<style scoped>\n",
       "    .dataframe tbody tr th:only-of-type {\n",
       "        vertical-align: middle;\n",
       "    }\n",
       "\n",
       "    .dataframe tbody tr th {\n",
       "        vertical-align: top;\n",
       "    }\n",
       "\n",
       "    .dataframe thead th {\n",
       "        text-align: right;\n",
       "    }\n",
       "</style>\n",
       "<table border=\"1\" class=\"dataframe\">\n",
       "  <thead>\n",
       "    <tr style=\"text-align: right;\">\n",
       "      <th></th>\n",
       "      <th>session_value</th>\n",
       "      <th>time</th>\n",
       "      <th>group</th>\n",
       "      <th>n_users</th>\n",
       "    </tr>\n",
       "  </thead>\n",
       "  <tbody>\n",
       "    <tr>\n",
       "      <th>0</th>\n",
       "      <td>0.0</td>\n",
       "      <td>12</td>\n",
       "      <td>B</td>\n",
       "      <td>9</td>\n",
       "    </tr>\n",
       "    <tr>\n",
       "      <th>1</th>\n",
       "      <td>0.0</td>\n",
       "      <td>11</td>\n",
       "      <td>A</td>\n",
       "      <td>-1</td>\n",
       "    </tr>\n",
       "    <tr>\n",
       "      <th>2</th>\n",
       "      <td>1.0</td>\n",
       "      <td>8</td>\n",
       "      <td>A</td>\n",
       "      <td>1</td>\n",
       "    </tr>\n",
       "    <tr>\n",
       "      <th>3</th>\n",
       "      <td>2.0</td>\n",
       "      <td>9</td>\n",
       "      <td>B</td>\n",
       "      <td>3</td>\n",
       "    </tr>\n",
       "    <tr>\n",
       "      <th>4</th>\n",
       "      <td>2.0</td>\n",
       "      <td>10</td>\n",
       "      <td>B</td>\n",
       "      <td>9</td>\n",
       "    </tr>\n",
       "    <tr>\n",
       "      <th>5</th>\n",
       "      <td>3.0</td>\n",
       "      <td>8</td>\n",
       "      <td>A</td>\n",
       "      <td>8</td>\n",
       "    </tr>\n",
       "    <tr>\n",
       "      <th>6</th>\n",
       "      <td>0.0</td>\n",
       "      <td>11</td>\n",
       "      <td>B</td>\n",
       "      <td>5</td>\n",
       "    </tr>\n",
       "    <tr>\n",
       "      <th>7</th>\n",
       "      <td>0.0</td>\n",
       "      <td>9</td>\n",
       "      <td>A</td>\n",
       "      <td>4</td>\n",
       "    </tr>\n",
       "    <tr>\n",
       "      <th>8</th>\n",
       "      <td>0.0</td>\n",
       "      <td>8</td>\n",
       "      <td>B</td>\n",
       "      <td>-11</td>\n",
       "    </tr>\n",
       "    <tr>\n",
       "      <th>9</th>\n",
       "      <td>0.0</td>\n",
       "      <td>9</td>\n",
       "      <td>A</td>\n",
       "      <td>-20</td>\n",
       "    </tr>\n",
       "  </tbody>\n",
       "</table>\n",
       "</div>"
      ],
      "text/plain": [
       "   session_value  time group  n_users\n",
       "0            0.0    12     B        9\n",
       "1            0.0    11     A       -1\n",
       "2            1.0     8     A        1\n",
       "3            2.0     9     B        3\n",
       "4            2.0    10     B        9\n",
       "5            3.0     8     A        8\n",
       "6            0.0    11     B        5\n",
       "7            0.0     9     A        4\n",
       "8            0.0     8     B      -11\n",
       "9            0.0     9     A      -20"
      ]
     },
     "execution_count": 32,
     "metadata": {},
     "output_type": "execute_result"
    }
   ],
   "source": [
    "my_stat.loc[\n",
    "    my_stat['session_value'].isna() == True,\n",
    "    ['session_value']\n",
    "] = 0\n",
    "\n",
    "my_stat"
   ]
  },
  {
   "cell_type": "code",
   "execution_count": 33,
   "id": "4a9b89eb",
   "metadata": {},
   "outputs": [
    {
     "data": {
      "text/html": [
       "<div>\n",
       "<style scoped>\n",
       "    .dataframe tbody tr th:only-of-type {\n",
       "        vertical-align: middle;\n",
       "    }\n",
       "\n",
       "    .dataframe tbody tr th {\n",
       "        vertical-align: top;\n",
       "    }\n",
       "\n",
       "    .dataframe thead th {\n",
       "        text-align: right;\n",
       "    }\n",
       "</style>\n",
       "<table border=\"1\" class=\"dataframe\">\n",
       "  <thead>\n",
       "    <tr style=\"text-align: right;\">\n",
       "      <th></th>\n",
       "      <th>session_value</th>\n",
       "      <th>time</th>\n",
       "      <th>group</th>\n",
       "      <th>n_users</th>\n",
       "    </tr>\n",
       "  </thead>\n",
       "  <tbody>\n",
       "    <tr>\n",
       "      <th>0</th>\n",
       "      <td>0.0</td>\n",
       "      <td>12</td>\n",
       "      <td>B</td>\n",
       "      <td>9</td>\n",
       "    </tr>\n",
       "    <tr>\n",
       "      <th>1</th>\n",
       "      <td>0.0</td>\n",
       "      <td>11</td>\n",
       "      <td>A</td>\n",
       "      <td>5</td>\n",
       "    </tr>\n",
       "    <tr>\n",
       "      <th>2</th>\n",
       "      <td>1.0</td>\n",
       "      <td>8</td>\n",
       "      <td>A</td>\n",
       "      <td>1</td>\n",
       "    </tr>\n",
       "    <tr>\n",
       "      <th>3</th>\n",
       "      <td>2.0</td>\n",
       "      <td>9</td>\n",
       "      <td>B</td>\n",
       "      <td>3</td>\n",
       "    </tr>\n",
       "    <tr>\n",
       "      <th>4</th>\n",
       "      <td>2.0</td>\n",
       "      <td>10</td>\n",
       "      <td>B</td>\n",
       "      <td>9</td>\n",
       "    </tr>\n",
       "    <tr>\n",
       "      <th>5</th>\n",
       "      <td>3.0</td>\n",
       "      <td>8</td>\n",
       "      <td>A</td>\n",
       "      <td>8</td>\n",
       "    </tr>\n",
       "    <tr>\n",
       "      <th>6</th>\n",
       "      <td>0.0</td>\n",
       "      <td>11</td>\n",
       "      <td>B</td>\n",
       "      <td>5</td>\n",
       "    </tr>\n",
       "    <tr>\n",
       "      <th>7</th>\n",
       "      <td>0.0</td>\n",
       "      <td>9</td>\n",
       "      <td>A</td>\n",
       "      <td>4</td>\n",
       "    </tr>\n",
       "    <tr>\n",
       "      <th>8</th>\n",
       "      <td>0.0</td>\n",
       "      <td>8</td>\n",
       "      <td>B</td>\n",
       "      <td>5</td>\n",
       "    </tr>\n",
       "    <tr>\n",
       "      <th>9</th>\n",
       "      <td>0.0</td>\n",
       "      <td>9</td>\n",
       "      <td>A</td>\n",
       "      <td>5</td>\n",
       "    </tr>\n",
       "  </tbody>\n",
       "</table>\n",
       "</div>"
      ],
      "text/plain": [
       "   session_value  time group  n_users\n",
       "0            0.0    12     B        9\n",
       "1            0.0    11     A        5\n",
       "2            1.0     8     A        1\n",
       "3            2.0     9     B        3\n",
       "4            2.0    10     B        9\n",
       "5            3.0     8     A        8\n",
       "6            0.0    11     B        5\n",
       "7            0.0     9     A        4\n",
       "8            0.0     8     B        5\n",
       "9            0.0     9     A        5"
      ]
     },
     "execution_count": 33,
     "metadata": {},
     "output_type": "execute_result"
    }
   ],
   "source": [
    "median_n = my_stat[my_stat['n_users'] > 0]['n_users'].median()\n",
    "my_stat.loc[\n",
    "    my_stat['n_users'] < 0,\n",
    "    ['n_users']\n",
    "] = median_n\n",
    "\n",
    "my_stat"
   ]
  },
  {
   "cell_type": "code",
   "execution_count": null,
   "id": "b4e6e373",
   "metadata": {},
   "outputs": [],
   "source": []
  }
 ],
 "metadata": {
  "kernelspec": {
   "display_name": "Python 3 (ipykernel)",
   "language": "python",
   "name": "python3"
  },
  "language_info": {
   "codemirror_mode": {
    "name": "ipython",
    "version": 3
   },
   "file_extension": ".py",
   "mimetype": "text/x-python",
   "name": "python",
   "nbconvert_exporter": "python",
   "pygments_lexer": "ipython3",
   "version": "3.9.12"
  },
  "vscode": {
   "interpreter": {
    "hash": "ed89f1c8d115d5e0a08de8f8278ced7016eff84acb8dbc6b22bd8780d1c494e1"
   }
  }
 },
 "nbformat": 4,
 "nbformat_minor": 5
}
