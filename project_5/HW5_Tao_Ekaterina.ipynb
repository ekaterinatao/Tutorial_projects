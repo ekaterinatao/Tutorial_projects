{
 "cells": [
  {
   "cell_type": "code",
   "execution_count": 1,
   "id": "3f2c809d",
   "metadata": {},
   "outputs": [],
   "source": [
    "import numpy as np \n",
    "import pandas as pd \n",
    "import seaborn as sns \n",
    "import matplotlib.pyplot as plt \n",
    "%matplotlib inline\n",
    "\n",
    "from sklearn.linear_model import LinearRegression\n",
    "from sklearn.linear_model import Lasso\n",
    "from sklearn.linear_model import Ridge\n",
    "\n",
    "from sklearn.preprocessing import PolynomialFeatures\n",
    "from sklearn.preprocessing import StandardScaler\n",
    "\n",
    "from sklearn.model_selection import cross_validate\n",
    "from sklearn.metrics import mean_absolute_percentage_error\n",
    "from sklearn.metrics import mean_squared_error"
   ]
  },
  {
   "cell_type": "code",
   "execution_count": 2,
   "id": "c64314fe",
   "metadata": {},
   "outputs": [
    {
     "data": {
      "text/html": [
       "<div>\n",
       "<style scoped>\n",
       "    .dataframe tbody tr th:only-of-type {\n",
       "        vertical-align: middle;\n",
       "    }\n",
       "\n",
       "    .dataframe tbody tr th {\n",
       "        vertical-align: top;\n",
       "    }\n",
       "\n",
       "    .dataframe thead th {\n",
       "        text-align: right;\n",
       "    }\n",
       "</style>\n",
       "<table border=\"1\" class=\"dataframe\">\n",
       "  <thead>\n",
       "    <tr style=\"text-align: right;\">\n",
       "      <th></th>\n",
       "      <th>Well</th>\n",
       "      <th>Por</th>\n",
       "      <th>Perm</th>\n",
       "      <th>AI</th>\n",
       "      <th>Brittle</th>\n",
       "      <th>TOC</th>\n",
       "      <th>VR</th>\n",
       "      <th>Prod</th>\n",
       "    </tr>\n",
       "  </thead>\n",
       "  <tbody>\n",
       "    <tr>\n",
       "      <th>0</th>\n",
       "      <td>1</td>\n",
       "      <td>12.08</td>\n",
       "      <td>2.92</td>\n",
       "      <td>2.80</td>\n",
       "      <td>81.40</td>\n",
       "      <td>1.16</td>\n",
       "      <td>2.31</td>\n",
       "      <td>4165.196191</td>\n",
       "    </tr>\n",
       "    <tr>\n",
       "      <th>1</th>\n",
       "      <td>2</td>\n",
       "      <td>12.38</td>\n",
       "      <td>3.53</td>\n",
       "      <td>3.22</td>\n",
       "      <td>46.17</td>\n",
       "      <td>0.89</td>\n",
       "      <td>1.88</td>\n",
       "      <td>3561.146205</td>\n",
       "    </tr>\n",
       "    <tr>\n",
       "      <th>2</th>\n",
       "      <td>3</td>\n",
       "      <td>14.02</td>\n",
       "      <td>2.59</td>\n",
       "      <td>4.01</td>\n",
       "      <td>72.80</td>\n",
       "      <td>0.89</td>\n",
       "      <td>2.72</td>\n",
       "      <td>4284.348574</td>\n",
       "    </tr>\n",
       "    <tr>\n",
       "      <th>3</th>\n",
       "      <td>4</td>\n",
       "      <td>17.67</td>\n",
       "      <td>6.75</td>\n",
       "      <td>2.63</td>\n",
       "      <td>39.81</td>\n",
       "      <td>1.08</td>\n",
       "      <td>1.88</td>\n",
       "      <td>5098.680869</td>\n",
       "    </tr>\n",
       "    <tr>\n",
       "      <th>4</th>\n",
       "      <td>5</td>\n",
       "      <td>17.52</td>\n",
       "      <td>4.57</td>\n",
       "      <td>3.18</td>\n",
       "      <td>10.94</td>\n",
       "      <td>1.51</td>\n",
       "      <td>1.90</td>\n",
       "      <td>3406.132832</td>\n",
       "    </tr>\n",
       "  </tbody>\n",
       "</table>\n",
       "</div>"
      ],
      "text/plain": [
       "   Well    Por  Perm    AI  Brittle   TOC    VR         Prod\n",
       "0     1  12.08  2.92  2.80    81.40  1.16  2.31  4165.196191\n",
       "1     2  12.38  3.53  3.22    46.17  0.89  1.88  3561.146205\n",
       "2     3  14.02  2.59  4.01    72.80  0.89  2.72  4284.348574\n",
       "3     4  17.67  6.75  2.63    39.81  1.08  1.88  5098.680869\n",
       "4     5  17.52  4.57  3.18    10.94  1.51  1.90  3406.132832"
      ]
     },
     "execution_count": 2,
     "metadata": {},
     "output_type": "execute_result"
    }
   ],
   "source": [
    "# Откроем данные\n",
    "data = pd.read_csv('unconv.csv')\n",
    "data.head()"
   ]
  },
  {
   "cell_type": "code",
   "execution_count": 3,
   "id": "df374e81",
   "metadata": {},
   "outputs": [
    {
     "name": "stdout",
     "output_type": "stream",
     "text": [
      "<class 'pandas.core.frame.DataFrame'>\n",
      "RangeIndex: 200 entries, 0 to 199\n",
      "Data columns (total 8 columns):\n",
      " #   Column   Non-Null Count  Dtype  \n",
      "---  ------   --------------  -----  \n",
      " 0   Well     200 non-null    int64  \n",
      " 1   Por      200 non-null    float64\n",
      " 2   Perm     200 non-null    float64\n",
      " 3   AI       200 non-null    float64\n",
      " 4   Brittle  200 non-null    float64\n",
      " 5   TOC      200 non-null    float64\n",
      " 6   VR       200 non-null    float64\n",
      " 7   Prod     200 non-null    float64\n",
      "dtypes: float64(7), int64(1)\n",
      "memory usage: 12.6 KB\n"
     ]
    }
   ],
   "source": [
    "data.info()"
   ]
  },
  {
   "cell_type": "code",
   "execution_count": 4,
   "id": "93bc697d",
   "metadata": {},
   "outputs": [
    {
     "data": {
      "text/plain": [
       "0"
      ]
     },
     "execution_count": 4,
     "metadata": {},
     "output_type": "execute_result"
    }
   ],
   "source": [
    "data.duplicated().sum()"
   ]
  },
  {
   "cell_type": "markdown",
   "id": "6f1cebc3",
   "metadata": {},
   "source": [
    "Пропусков и дубликатов нет.  "
   ]
  },
  {
   "cell_type": "code",
   "execution_count": 5,
   "id": "700c75da",
   "metadata": {},
   "outputs": [
    {
     "data": {
      "text/html": [
       "<div>\n",
       "<style scoped>\n",
       "    .dataframe tbody tr th:only-of-type {\n",
       "        vertical-align: middle;\n",
       "    }\n",
       "\n",
       "    .dataframe tbody tr th {\n",
       "        vertical-align: top;\n",
       "    }\n",
       "\n",
       "    .dataframe thead th {\n",
       "        text-align: right;\n",
       "    }\n",
       "</style>\n",
       "<table border=\"1\" class=\"dataframe\">\n",
       "  <thead>\n",
       "    <tr style=\"text-align: right;\">\n",
       "      <th></th>\n",
       "      <th>Well</th>\n",
       "      <th>Por</th>\n",
       "      <th>Perm</th>\n",
       "      <th>AI</th>\n",
       "      <th>Brittle</th>\n",
       "      <th>TOC</th>\n",
       "      <th>VR</th>\n",
       "      <th>Prod</th>\n",
       "    </tr>\n",
       "  </thead>\n",
       "  <tbody>\n",
       "    <tr>\n",
       "      <th>count</th>\n",
       "      <td>200.000000</td>\n",
       "      <td>200.000000</td>\n",
       "      <td>200.000000</td>\n",
       "      <td>200.000000</td>\n",
       "      <td>200.000000</td>\n",
       "      <td>200.000000</td>\n",
       "      <td>200.000000</td>\n",
       "      <td>200.000000</td>\n",
       "    </tr>\n",
       "    <tr>\n",
       "      <th>mean</th>\n",
       "      <td>100.500000</td>\n",
       "      <td>14.991150</td>\n",
       "      <td>4.330750</td>\n",
       "      <td>2.968850</td>\n",
       "      <td>48.161950</td>\n",
       "      <td>0.990450</td>\n",
       "      <td>1.964300</td>\n",
       "      <td>4311.219852</td>\n",
       "    </tr>\n",
       "    <tr>\n",
       "      <th>std</th>\n",
       "      <td>57.879185</td>\n",
       "      <td>2.971176</td>\n",
       "      <td>1.731014</td>\n",
       "      <td>0.566885</td>\n",
       "      <td>14.129455</td>\n",
       "      <td>0.481588</td>\n",
       "      <td>0.300827</td>\n",
       "      <td>992.038414</td>\n",
       "    </tr>\n",
       "    <tr>\n",
       "      <th>min</th>\n",
       "      <td>1.000000</td>\n",
       "      <td>6.550000</td>\n",
       "      <td>1.130000</td>\n",
       "      <td>1.280000</td>\n",
       "      <td>10.940000</td>\n",
       "      <td>-0.190000</td>\n",
       "      <td>0.930000</td>\n",
       "      <td>2107.139414</td>\n",
       "    </tr>\n",
       "    <tr>\n",
       "      <th>25%</th>\n",
       "      <td>50.750000</td>\n",
       "      <td>12.912500</td>\n",
       "      <td>3.122500</td>\n",
       "      <td>2.547500</td>\n",
       "      <td>37.755000</td>\n",
       "      <td>0.617500</td>\n",
       "      <td>1.770000</td>\n",
       "      <td>3618.064513</td>\n",
       "    </tr>\n",
       "    <tr>\n",
       "      <th>50%</th>\n",
       "      <td>100.500000</td>\n",
       "      <td>15.070000</td>\n",
       "      <td>4.035000</td>\n",
       "      <td>2.955000</td>\n",
       "      <td>49.510000</td>\n",
       "      <td>1.030000</td>\n",
       "      <td>1.960000</td>\n",
       "      <td>4284.687348</td>\n",
       "    </tr>\n",
       "    <tr>\n",
       "      <th>75%</th>\n",
       "      <td>150.250000</td>\n",
       "      <td>17.402500</td>\n",
       "      <td>5.287500</td>\n",
       "      <td>3.345000</td>\n",
       "      <td>58.262500</td>\n",
       "      <td>1.350000</td>\n",
       "      <td>2.142500</td>\n",
       "      <td>5086.089761</td>\n",
       "    </tr>\n",
       "    <tr>\n",
       "      <th>max</th>\n",
       "      <td>200.000000</td>\n",
       "      <td>23.550000</td>\n",
       "      <td>9.870000</td>\n",
       "      <td>4.630000</td>\n",
       "      <td>84.330000</td>\n",
       "      <td>2.180000</td>\n",
       "      <td>2.870000</td>\n",
       "      <td>6662.622385</td>\n",
       "    </tr>\n",
       "  </tbody>\n",
       "</table>\n",
       "</div>"
      ],
      "text/plain": [
       "             Well         Por        Perm          AI     Brittle         TOC  \\\n",
       "count  200.000000  200.000000  200.000000  200.000000  200.000000  200.000000   \n",
       "mean   100.500000   14.991150    4.330750    2.968850   48.161950    0.990450   \n",
       "std     57.879185    2.971176    1.731014    0.566885   14.129455    0.481588   \n",
       "min      1.000000    6.550000    1.130000    1.280000   10.940000   -0.190000   \n",
       "25%     50.750000   12.912500    3.122500    2.547500   37.755000    0.617500   \n",
       "50%    100.500000   15.070000    4.035000    2.955000   49.510000    1.030000   \n",
       "75%    150.250000   17.402500    5.287500    3.345000   58.262500    1.350000   \n",
       "max    200.000000   23.550000    9.870000    4.630000   84.330000    2.180000   \n",
       "\n",
       "               VR         Prod  \n",
       "count  200.000000   200.000000  \n",
       "mean     1.964300  4311.219852  \n",
       "std      0.300827   992.038414  \n",
       "min      0.930000  2107.139414  \n",
       "25%      1.770000  3618.064513  \n",
       "50%      1.960000  4284.687348  \n",
       "75%      2.142500  5086.089761  \n",
       "max      2.870000  6662.622385  "
      ]
     },
     "execution_count": 5,
     "metadata": {},
     "output_type": "execute_result"
    }
   ],
   "source": [
    "data.describe()"
   ]
  },
  {
   "cell_type": "code",
   "execution_count": 6,
   "id": "f92dc731",
   "metadata": {},
   "outputs": [
    {
     "data": {
      "image/png": "[encoded data removed]",
      "text/plain": [
       "<Figure size 1152x720 with 8 Axes>"
      ]
     },
     "metadata": {
      "needs_background": "light"
     },
     "output_type": "display_data"
    }
   ],
   "source": [
    "# Строим гистограммы распределения признаков\n",
    "# с ядерной оценкой плотности\n",
    "fig, axes = plt.subplots(3, 3, figsize=(16, 10))\n",
    "plt.subplots_adjust(wspace=0.2, hspace=0.25)\n",
    "fig.suptitle('Params distribution', fontsize=16)\n",
    "axes = axes.flatten()\n",
    "cols = list(data.columns)\n",
    "if axes.shape[0] > len(cols):\n",
    "    ax_del = axes.shape[0] - len(cols)\n",
    "    for i in range(ax_del):\n",
    "        fig.delaxes(axes[axes.shape[0] - i - 1])\n",
    "for i, col in enumerate(cols):\n",
    "    hist = sns.histplot(\n",
    "        data=data,\n",
    "        x=col,\n",
    "        bins=20,\n",
    "        kde=True,\n",
    "        ax=axes[i]\n",
    "    );"
   ]
  },
  {
   "cell_type": "code",
   "execution_count": 7,
   "id": "794ca9de",
   "metadata": {},
   "outputs": [
    {
     "data": {
      "image/png": "[encoded data removed]",
      "text/plain": [
       "<Figure size 1152x792 with 8 Axes>"
      ]
     },
     "metadata": {
      "needs_background": "light"
     },
     "output_type": "display_data"
    }
   ],
   "source": [
    "# Строим ящики с усами\n",
    "fig, axes = plt.subplots(3, 3, figsize=(16, 11))\n",
    "plt.subplots_adjust(wspace=0.2, hspace=0.25)\n",
    "axes = axes.flatten()\n",
    "cols = list(data.columns)\n",
    "if axes.shape[0] > len(cols):\n",
    "    ax_del = axes.shape[0] - len(cols)\n",
    "    for i in range(ax_del):\n",
    "        fig.delaxes(axes[axes.shape[0] - i - 1])\n",
    "for i, col in enumerate(cols):\n",
    "    sns.boxplot(\n",
    "        x=data[col],  \n",
    "        orient='h',\n",
    "        width=0.8,\n",
    "        ax=axes[i]\n",
    "    )"
   ]
  },
  {
   "cell_type": "markdown",
   "id": "709ceea0",
   "metadata": {},
   "source": [
    "Параметр `Well` - идентификатор скважины, имеет равномерное распределение и не несет смысла.  \n",
    "Распределения остальных параметров напоминают нормальные, некоторые несколько смещены вправо (`Perm`) и влево (`Brittle`, `Toc`).  \n",
    "По боксплотам у переменных `Perm`, `AI`, `VR` видны выбросы."
   ]
  },
  {
   "cell_type": "markdown",
   "id": "1a7ff126",
   "metadata": {},
   "source": [
    "## Задание 2.1"
   ]
  },
  {
   "cell_type": "code",
   "execution_count": 8,
   "id": "d276bbb5",
   "metadata": {},
   "outputs": [
    {
     "data": {
      "image/png": "[encoded data removed]",
      "text/plain": [
       "<Figure size 720x576 with 2 Axes>"
      ]
     },
     "metadata": {
      "needs_background": "light"
     },
     "output_type": "display_data"
    }
   ],
   "source": [
    "# Постройте корреляционную матрицу факторов, \n",
    "# включив в неё целевой признак.\n",
    "corr_ar = data.corr()\n",
    "fig, ax = plt.subplots(figsize=(10, 8))\n",
    "sns.heatmap(\n",
    "    corr_ar,\n",
    "    cmap='PiYG', \n",
    "    annot=True,\n",
    "    vmin=-1,\n",
    "    vmax=1\n",
    ");"
   ]
  },
  {
   "cell_type": "code",
   "execution_count": 9,
   "id": "0c0da888",
   "metadata": {},
   "outputs": [
    {
     "data": {
      "text/plain": [
       "8"
      ]
     },
     "execution_count": 9,
     "metadata": {},
     "output_type": "execute_result"
    }
   ],
   "source": [
    "# Вычислите ранг полученной матрицы корреляций\n",
    "np.linalg.matrix_rank(corr_ar)"
   ]
  },
  {
   "cell_type": "code",
   "execution_count": 10,
   "id": "72eb735a",
   "metadata": {},
   "outputs": [
    {
     "data": {
      "text/plain": [
       "0.0007299388072652082"
      ]
     },
     "execution_count": 10,
     "metadata": {},
     "output_type": "execute_result"
    }
   ],
   "source": [
    "# Вычислите определитель матрицы корреляций\n",
    "np.linalg.det(corr_ar)"
   ]
  },
  {
   "cell_type": "markdown",
   "id": "b13b0be3",
   "metadata": {},
   "source": [
    "## Задание 2.2"
   ]
  },
  {
   "cell_type": "code",
   "execution_count": 11,
   "id": "97e6eb0a",
   "metadata": {},
   "outputs": [],
   "source": [
    "# Создайте матрицу наблюдений. Обозначьте её за X, \n",
    "# а вектор правильных ответов — за y .\n",
    "X = np.column_stack((\n",
    "    np.ones(data.shape[0]), \n",
    "    data.iloc[:, 0:7]\n",
    "))\n",
    "y = np.array(data.iloc[:, 7])"
   ]
  },
  {
   "cell_type": "code",
   "execution_count": 12,
   "id": "656d1066",
   "metadata": {},
   "outputs": [
    {
     "data": {
      "text/html": [
       "<div>\n",
       "<style scoped>\n",
       "    .dataframe tbody tr th:only-of-type {\n",
       "        vertical-align: middle;\n",
       "    }\n",
       "\n",
       "    .dataframe tbody tr th {\n",
       "        vertical-align: top;\n",
       "    }\n",
       "\n",
       "    .dataframe thead th {\n",
       "        text-align: right;\n",
       "    }\n",
       "</style>\n",
       "<table border=\"1\" class=\"dataframe\">\n",
       "  <thead>\n",
       "    <tr style=\"text-align: right;\">\n",
       "      <th></th>\n",
       "      <th>intercept</th>\n",
       "      <th>Well</th>\n",
       "      <th>Por</th>\n",
       "      <th>Perm</th>\n",
       "      <th>AI</th>\n",
       "      <th>Brittle</th>\n",
       "      <th>TOC</th>\n",
       "      <th>VR</th>\n",
       "    </tr>\n",
       "  </thead>\n",
       "  <tbody>\n",
       "    <tr>\n",
       "      <th>OLS coeff</th>\n",
       "      <td>-1232.30803</td>\n",
       "      <td>0.0507</td>\n",
       "      <td>230.17914</td>\n",
       "      <td>116.239006</td>\n",
       "      <td>-365.202301</td>\n",
       "      <td>24.99437</td>\n",
       "      <td>-78.400929</td>\n",
       "      <td>785.259815</td>\n",
       "    </tr>\n",
       "  </tbody>\n",
       "</table>\n",
       "</div>"
      ],
      "text/plain": [
       "            intercept    Well        Por        Perm          AI   Brittle  \\\n",
       "OLS coeff -1232.30803  0.0507  230.17914  116.239006 -365.202301  24.99437   \n",
       "\n",
       "                 TOC          VR  \n",
       "OLS coeff -78.400929  785.259815  "
      ]
     },
     "metadata": {},
     "output_type": "display_data"
    }
   ],
   "source": [
    "# Постройте модель линейной регрессии по методу наименьших квадратов. \n",
    "# Для этого используйте матричную формулу NumPy. \n",
    "# В качестве ответа укажите полученные оценки коэффициентов модели\n",
    "w_hat = np.linalg.inv(X.T@X) @ X.T@y\n",
    "display(pd.DataFrame(\n",
    "    data=w_hat, \n",
    "    index=['intercept', 'Well', 'Por', 'Perm', \n",
    "           'AI', 'Brittle', 'TOC', 'VR'],\n",
    "    columns=['OLS coeff']\n",
    ").T)"
   ]
  },
  {
   "cell_type": "markdown",
   "id": "75f5e369",
   "metadata": {},
   "source": [
    "## Задание 2.3"
   ]
  },
  {
   "cell_type": "code",
   "execution_count": 13,
   "id": "706f0778",
   "metadata": {},
   "outputs": [
    {
     "name": "stdout",
     "output_type": "stream",
     "text": [
      "Абсолютная ошибка: 25.250970292806414\n"
     ]
    }
   ],
   "source": [
    "# Постройте прогноз выработки газа для скважины с параметрами, \n",
    "# указанными ниже.\n",
    "# Чему равна абсолютная ошибка построенного вами прогноза для \n",
    "# предложенной скважины ?(в миллионах кубических футов в день).\n",
    "\n",
    "# Инициализация нового наблюдения и целевого признака\n",
    "new = np.array([1, 106, 15.32, 3.71, 3.29, 55.99, 1.35, 2.42])\n",
    "y_new = 4748.315024\n",
    "\n",
    "# Предсказываем значение модели по новому наблюдению\n",
    "y_pred = new @ w_hat\n",
    "print('Абсолютная ошибка:', abs(y_new - y_pred))"
   ]
  },
  {
   "cell_type": "markdown",
   "id": "e6567af4",
   "metadata": {},
   "source": [
    "Метрика MAPE:"
   ]
  },
  {
   "cell_type": "markdown",
   "id": "476e4ba5",
   "metadata": {},
   "source": [
    "![](https://miro.medium.com/max/596/1*vmIM1jePXsDxPpgWEQ35Lg.png)"
   ]
  },
  {
   "cell_type": "code",
   "execution_count": 14,
   "id": "4355c558",
   "metadata": {},
   "outputs": [
    {
     "name": "stdout",
     "output_type": "stream",
     "text": [
      "MAPE: 3.6 %\n"
     ]
    }
   ],
   "source": [
    "# Постройте прогноз выработки газа для всех скважин\n",
    "# из обучающего набора данных. \n",
    "# Чему равно значение метрики MAPE вашей модели? \n",
    "\n",
    "# Предсказываем значение модели по полученным ранее коэффициентам\n",
    "y_pred = X @ w_hat\n",
    "\n",
    "# Вычисляем ошибку по формуле\n",
    "MAPE = 1/X.shape[0] * sum(abs(y-y_pred) / y) * 100\n",
    "print(f'MAPE: {MAPE:.2} %')"
   ]
  },
  {
   "cell_type": "markdown",
   "id": "a8f54f93",
   "metadata": {},
   "source": [
    "## Задание 2.5"
   ]
  },
  {
   "cell_type": "code",
   "execution_count": 15,
   "id": "dff14633",
   "metadata": {},
   "outputs": [],
   "source": [
    "# Исключите из данных сильно коррелированные между собой факторы.\n",
    "\n",
    "# Данные после исключения коррелированных факторов\n",
    "X_new = np.column_stack((\n",
    "    np.ones(data.shape[0]), \n",
    "    data.loc[:, ['Por', 'AI', 'Brittle', 'VR']]\n",
    "))"
   ]
  },
  {
   "cell_type": "code",
   "execution_count": 16,
   "id": "39d1ba63",
   "metadata": {},
   "outputs": [
    {
     "data": {
      "text/html": [
       "<div>\n",
       "<style scoped>\n",
       "    .dataframe tbody tr th:only-of-type {\n",
       "        vertical-align: middle;\n",
       "    }\n",
       "\n",
       "    .dataframe tbody tr th {\n",
       "        vertical-align: top;\n",
       "    }\n",
       "\n",
       "    .dataframe thead th {\n",
       "        text-align: right;\n",
       "    }\n",
       "</style>\n",
       "<table border=\"1\" class=\"dataframe\">\n",
       "  <thead>\n",
       "    <tr style=\"text-align: right;\">\n",
       "      <th></th>\n",
       "      <th>intercept</th>\n",
       "      <th>Por</th>\n",
       "      <th>AI</th>\n",
       "      <th>Brittle</th>\n",
       "      <th>VR</th>\n",
       "    </tr>\n",
       "  </thead>\n",
       "  <tbody>\n",
       "    <tr>\n",
       "      <th>OLS coeff</th>\n",
       "      <td>-1835.446461</td>\n",
       "      <td>293.036246</td>\n",
       "      <td>-200.030912</td>\n",
       "      <td>27.640982</td>\n",
       "      <td>517.402726</td>\n",
       "    </tr>\n",
       "  </tbody>\n",
       "</table>\n",
       "</div>"
      ],
      "text/plain": [
       "             intercept         Por          AI    Brittle          VR\n",
       "OLS coeff -1835.446461  293.036246 -200.030912  27.640982  517.402726"
      ]
     },
     "metadata": {},
     "output_type": "display_data"
    }
   ],
   "source": [
    "# Постройте линейную регрессию на обновлённых после удаления \n",
    "# факторов данных по методу наименьших квадратов. \n",
    "w_hat = np.linalg.inv(X_new.T@X_new) @ X_new.T@y\n",
    "display(pd.DataFrame(\n",
    "    data=w_hat, \n",
    "    index=['intercept', 'Por', 'AI', 'Brittle', 'VR'],\n",
    "    columns=['OLS coeff']\n",
    ").T)"
   ]
  },
  {
   "cell_type": "code",
   "execution_count": 17,
   "id": "0221bdd4",
   "metadata": {},
   "outputs": [
    {
     "name": "stdout",
     "output_type": "stream",
     "text": [
      "MAPE: 4.0 %\n",
      "RMSE: 231.6 млн. куб. футов в сутки\n"
     ]
    }
   ],
   "source": [
    "# Сделайте прогноз для всего обучающего набора данных и\n",
    "# рассчитайте метрику MAPE (Mean Absolute Percentage Error).\n",
    "\n",
    "# Предсказываем значение модели по полученным коэффициентам\n",
    "y_pred = X_new @ w_hat\n",
    "\n",
    "# Вычисляем ошибку с помошью встроенной метрики\n",
    "MAPE = mean_absolute_percentage_error(y, y_pred) * 100\n",
    "RMSE = mean_squared_error(y, y_pred, squared=False)\n",
    "print(f'MAPE: {MAPE:.1f} %')\n",
    "print(f'RMSE: {RMSE:.1f} млн. куб. футов в сутки')"
   ]
  },
  {
   "cell_type": "markdown",
   "id": "7237eeb2",
   "metadata": {},
   "source": [
    "## Задание 3.1"
   ]
  },
  {
   "cell_type": "code",
   "execution_count": 18,
   "id": "df24f446",
   "metadata": {},
   "outputs": [
    {
     "data": {
      "text/plain": [
       "(200, 34)"
      ]
     },
     "execution_count": 18,
     "metadata": {},
     "output_type": "execute_result"
    }
   ],
   "source": [
    "# Сгенерируйте полиномиальные признаки третьего порядка \n",
    "# на факторах, которые вы выбрали для обучения моделей\n",
    "\n",
    "# Матрица наблюдений и вектор целевого признака\n",
    "X = data.loc[:, ['Por', 'AI', 'Brittle', 'VR']]\n",
    "y = np.array(data.iloc[:, 7])\n",
    "\n",
    "# Добавляем полиномиальные признаки\n",
    "poly = PolynomialFeatures(degree=3, include_bias=False)\n",
    "X_poly = poly.fit_transform(X)\n",
    "X_poly.shape"
   ]
  },
  {
   "cell_type": "code",
   "execution_count": 19,
   "id": "2c519843",
   "metadata": {},
   "outputs": [],
   "source": [
    "# Обучите модель линейной регрессии из библиотеки \n",
    "# sklearn (LinearRegression) на полученных полиномиальных факторах.\n",
    "lineal_model = LinearRegression().fit(X_poly, y)"
   ]
  },
  {
   "cell_type": "code",
   "execution_count": 20,
   "id": "3c32c350",
   "metadata": {},
   "outputs": [
    {
     "name": "stdout",
     "output_type": "stream",
     "text": [
      "MAPE на тренировочных фолдах: 1.8 %\n",
      "MAPE на валидационных фолдах: 2.7 %\n",
      "RMSE на тренировочных фолдах: 100.7 млн. куб. футов в сутки\n",
      "RMSE на валидационных фолдах: 154.5 млн. куб. футов в сутки\n"
     ]
    }
   ],
   "source": [
    "# Оцените среднее значение метрики MAPE, \n",
    "# используя кросс-валидацию на пяти фолдах.\n",
    "cv_results = cross_validate(\n",
    "    lineal_model, \n",
    "    X_poly, \n",
    "    y, \n",
    "    scoring=['neg_mean_absolute_percentage_error',\n",
    "             'neg_root_mean_squared_error'],\n",
    "    cv=5, \n",
    "    return_train_score=True\n",
    ")\n",
    "print('MAPE на тренировочных фолдах: {:.1f} %'.format(\n",
    "    -cv_results['train_neg_mean_absolute_percentage_error'].mean() * 100\n",
    "))\n",
    "print('MAPE на валидационных фолдах: {:.1f} %'.format(\n",
    "    -cv_results['test_neg_mean_absolute_percentage_error'].mean() * 100\n",
    "))\n",
    "\n",
    "# Дополнительно оцениваем RMSE\n",
    "print('RMSE на тренировочных фолдах: {:.1f} млн. куб. футов в сутки'\\\n",
    "      .format(-cv_results['train_neg_root_mean_squared_error'].mean()))\n",
    "print('RMSE на валидационных фолдах: {:.1f} млн. куб. футов в сутки'\\\n",
    "      .format(-cv_results['test_neg_root_mean_squared_error'].mean()))"
   ]
  },
  {
   "cell_type": "markdown",
   "id": "0180433f",
   "metadata": {},
   "source": [
    "## Задание 3.2"
   ]
  },
  {
   "cell_type": "code",
   "execution_count": 21,
   "id": "bb4c1aa9",
   "metadata": {},
   "outputs": [
    {
     "name": "stdout",
     "output_type": "stream",
     "text": [
      "MAPE на тренировочных фолдах: 1.8 %\n",
      "MAPE на валидационных фолдах: 2.3 %\n",
      "RMSE на тренировочных фолдах: 106.8 млн. куб. футов в сутки\n",
      "RMSE на валидационных фолдах: 129.7 млн. куб. футов в сутки\n"
     ]
    }
   ],
   "source": [
    "# Обучите модель Lasso из библиотеки sklearn на полученных \n",
    "# полиномиальных факторах, предварительно стандартизировав факторы \n",
    "# с помощью StandardScaler. \n",
    "# Коэффициент регуляризации выставите равным 5.\n",
    "\n",
    "# Стандартизируем факторы\n",
    "X_st = StandardScaler().fit_transform(X)\n",
    "\n",
    "# Добавляем полиномиальные признаки\n",
    "poly = PolynomialFeatures(degree=3, include_bias=False)\n",
    "X_poly = poly.fit_transform(X_st)\n",
    "\n",
    "# Создаём модель линейной регрессии c L1-регуляризацией\n",
    "lasso = Lasso(alpha=5)\n",
    "\n",
    "# Оцените среднее значение метрики MAPE, \n",
    "# используя кросс-валидацию на пяти фолдах.\n",
    "cv_results = cross_validate(\n",
    "    lasso, \n",
    "    X_poly, \n",
    "    y, \n",
    "    scoring=['neg_mean_absolute_percentage_error',\n",
    "             'neg_root_mean_squared_error'],\n",
    "    cv=5, \n",
    "    return_train_score=True\n",
    ")\n",
    "print('MAPE на тренировочных фолдах: {:.1f} %'.format(\n",
    "    -cv_results['train_neg_mean_absolute_percentage_error'].mean() * 100\n",
    "))\n",
    "print('MAPE на валидационных фолдах: {:.1f} %'.format(\n",
    "    -cv_results['test_neg_mean_absolute_percentage_error'].mean() * 100\n",
    "))\n",
    "\n",
    "# Дополнительно оцениваем RMSE\n",
    "print('RMSE на тренировочных фолдах: {:.1f} млн. куб. футов в сутки'\\\n",
    "      .format(-cv_results['train_neg_root_mean_squared_error'].mean()))\n",
    "print('RMSE на валидационных фолдах: {:.1f} млн. куб. футов в сутки'\\\n",
    "      .format(-cv_results['test_neg_root_mean_squared_error'].mean()))"
   ]
  },
  {
   "cell_type": "markdown",
   "id": "74c83404",
   "metadata": {},
   "source": [
    "## Задание 3.3"
   ]
  },
  {
   "cell_type": "code",
   "execution_count": 22,
   "id": "9e0bed7a",
   "metadata": {},
   "outputs": [
    {
     "name": "stdout",
     "output_type": "stream",
     "text": [
      "MAPE на тренировочных фолдах: 1.8 %\n",
      "MAPE на валидационных фолдах: 2.7 %\n",
      "RMSE на тренировочных фолдах: 102.5 млн. куб. футов в сутки\n",
      "RMSE на валидационных фолдах: 153.1 млн. куб. футов в сутки\n"
     ]
    }
   ],
   "source": [
    "# Обучите модель Ridge из библиотеки sklearn на полученных \n",
    "# полиномиальных факторах, предварительно стандартизировав факторы \n",
    "# с помощью StandardScaler. \n",
    "# Коэффициент регуляризации выставите равным 1.\n",
    "\n",
    "# Стандартизируем факторы\n",
    "X_st = StandardScaler().fit_transform(X)\n",
    "\n",
    "# Добавляем полиномиальные признаки\n",
    "poly = PolynomialFeatures(degree=3, include_bias=False)\n",
    "X_poly = poly.fit_transform(X_st)\n",
    "\n",
    "# Создаём модель линейной регрессии c L2-регуляризацией\n",
    "ridge = Ridge(alpha=1)\n",
    "\n",
    "# Оцените среднее значение метрики MAPE, \n",
    "# используя кросс-валидацию на пяти фолдах.\n",
    "cv_results = cross_validate(\n",
    "    ridge, \n",
    "    X_poly, \n",
    "    y, \n",
    "    scoring=['neg_mean_absolute_percentage_error',\n",
    "             'neg_root_mean_squared_error'], \n",
    "    cv=5, \n",
    "    return_train_score=True\n",
    ")\n",
    "print('MAPE на тренировочных фолдах: {:.1f} %'.format(\n",
    "    -cv_results['train_neg_mean_absolute_percentage_error'].mean() * 100\n",
    "))\n",
    "print('MAPE на валидационных фолдах: {:.1f} %'.format(\n",
    "    -cv_results['test_neg_mean_absolute_percentage_error'].mean() * 100\n",
    "))\n",
    "\n",
    "# Дополнительно оцениваем RMSE\n",
    "print('RMSE на тренировочных фолдах: {:.1f} млн. куб. футов в сутки'\\\n",
    "      .format(-cv_results['train_neg_root_mean_squared_error'].mean()))\n",
    "print('RMSE на валидационных фолдах: {:.1f} млн. куб. футов в сутки'\\\n",
    "      .format(-cv_results['test_neg_root_mean_squared_error'].mean()))"
   ]
  },
  {
   "cell_type": "markdown",
   "id": "c9853f91",
   "metadata": {},
   "source": [
    "#### Выводы:\n",
    "- Изначально определитель матрицы корреляций стремился к 0, матрица была плохо обусловленной. В факторах присутствовала мультиколинеарность, поэтому при построении стандартной МНК-модели интерпретация коэффициентов потеряла смысл (изменились знаки, что сделало нелогичной зависимость).\n",
    "- После удаления сильно коррелированных между собой признаков и признака который очень слабо коррелировал (и не имел смысловой нагрузки) с целевой переменной устранено противоречие коэффициентов линейной регрессии и коэффициентов корреляции, однако немного увеличился размер ошибки.\n",
    "- При трансформации признаков в полином 3-ей степени, качество модели несколько улучшилось (уменьшилась ошибка).\n",
    "- L1-регуляризация показала лучшее качество модели, чем L2-регуляризация.\n",
    "- Можно было использовать корень из среднеквадратичной ошибки, чтобы интерпретировать ошибку добычи газа в абсолютных значениях млн. кубических футов в сутки.\n",
    "- Средняя добыча газа по скважине составляет 4200 млн. кубических футов в сутки, поэтому качество модели с лучшей ошибкой после кросс-валидации равной 130 млн. кубических футов в сутки. можно расценить как хорошее.\n",
    "- Параметр: Идентификатор скважины - не несет смысловой нагрузки, его можно было удалять сразу.\n",
    "- Можно было попробовать обработать выбросы у переменных."
   ]
  },
  {
   "cell_type": "code",
   "execution_count": null,
   "id": "5e408558",
   "metadata": {},
   "outputs": [],
   "source": []
  }
 ],
 "metadata": {
  "kernelspec": {
   "display_name": "Python 3 (ipykernel)",
   "language": "python",
   "name": "python3"
  },
  "language_info": {
   "codemirror_mode": {
    "name": "ipython",
    "version": 3
   },
   "file_extension": ".py",
   "mimetype": "text/x-python",
   "name": "python",
   "nbconvert_exporter": "python",
   "pygments_lexer": "ipython3",
   "version": "3.9.12"
  }
 },
 "nbformat": 4,
 "nbformat_minor": 5
}
