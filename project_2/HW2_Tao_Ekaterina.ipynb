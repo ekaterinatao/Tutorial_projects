{
 "cells": [
  {
   "cell_type": "markdown",
   "metadata": {
    "id": "2GJcyIoN4arc"
   },
   "source": [
    "# Reversed integer"
   ]
  },
  {
   "cell_type": "markdown",
   "metadata": {
    "id": "nDpM0sXf4dv5"
   },
   "source": [
    "Вам дано число целого типа ``a``. Вам необходимо написать функцию, которая принимает это число на вход, а на выход выдает целое число, цифры в котором записаны в обратном порядке.\n",
    "\n",
    "\n",
    "**Sample Input 1:**\n",
    "\n",
    "``\n",
    "a = 123\n",
    "``\n",
    "\n",
    "**Sample Output 1:**\n",
    "\n",
    "``321``\n",
    "\n",
    "**Sample Input 2:**\n",
    "\n",
    "``\n",
    "a = 120\n",
    "``\n",
    "\n",
    "**Sample Output 2:**\n",
    "\n",
    "``21``\n",
    "\n",
    "**Sample Input 3:**\n",
    "\n",
    "``\n",
    "-123\n",
    "``\n",
    "\n",
    "**Sample Output 3:**\n",
    "\n",
    "``321``"
   ]
  },
  {
   "cell_type": "code",
   "execution_count": 1,
   "metadata": {
    "id": "zy1TNSPU6ARi"
   },
   "outputs": [],
   "source": [
    "def reverse_number(num: int) -> int:\n",
    "    \"\"\"\n",
    "    Function retuns reverted integer.\n",
    "\n",
    "    :param num: integer\n",
    "    :return: reverted integer\n",
    "    \"\"\"\n",
    "    # Remove negative sign from a number\n",
    "    abs_num = abs(num)\n",
    "    # Place last digit from number to reversed number\n",
    "    reversed_num = abs_num % 10\n",
    "\n",
    "    # Loop for cutting last digit from number \n",
    "    # and placing it to reversed number\n",
    "    while True:\n",
    "        abs_num //= 10\n",
    "        if abs_num == 0: \n",
    "            break\n",
    "        reversed_num = reversed_num * 10 + abs_num % 10\n",
    "\n",
    "    return reversed_num"
   ]
  },
  {
   "cell_type": "code",
   "execution_count": 2,
   "metadata": {},
   "outputs": [
    {
     "data": {
      "text/plain": [
       "32"
      ]
     },
     "execution_count": 2,
     "metadata": {},
     "output_type": "execute_result"
    }
   ],
   "source": [
    "reverse_number(-230)"
   ]
  },
  {
   "cell_type": "code",
   "execution_count": 3,
   "metadata": {},
   "outputs": [
    {
     "data": {
      "text/plain": [
       "623"
      ]
     },
     "execution_count": 3,
     "metadata": {},
     "output_type": "execute_result"
    }
   ],
   "source": [
    "reverse_number(32600)"
   ]
  },
  {
   "cell_type": "code",
   "execution_count": 4,
   "metadata": {},
   "outputs": [
    {
     "data": {
      "text/plain": [
       "4321"
      ]
     },
     "execution_count": 4,
     "metadata": {},
     "output_type": "execute_result"
    }
   ],
   "source": [
    "reverse_number(1234)"
   ]
  },
  {
   "cell_type": "markdown",
   "metadata": {
    "id": "GT_lUMYz5YfQ"
   },
   "source": [
    "# Empty square"
   ]
  },
  {
   "cell_type": "markdown",
   "metadata": {
    "id": "fHOx6Dnu5cEQ"
   },
   "source": [
    "Напишите функцию, которая принимает единственное число ``n: int``. Это число определяет длину стороны квадрата. Функция должна нарисовать квадрат из звездочек, при этом звездочки должны быть только на ребрах квадрата, центр должен быть выколот.\n",
    "\n",
    "**Sample Input 1:**\n",
    "\n",
    "``\n",
    "n = 5\n",
    "``\n",
    "\n",
    "**Sample Output 1:**\n",
    "```\n",
    "* * * * *\n",
    "*       *\n",
    "*       *\n",
    "*       *\n",
    "* * * * *\n",
    "\n",
    "```"
   ]
  },
  {
   "cell_type": "code",
   "execution_count": 5,
   "metadata": {},
   "outputs": [],
   "source": [
    "def make_square(n: int):\n",
    "    \"\"\"\n",
    "    Function prints empty square of `*`\n",
    "\n",
    "    :param n: number of * in rows and columns\n",
    "    :return: None\n",
    "    \"\"\"\n",
    "    for i in range(n):\n",
    "        for j in range(n):\n",
    "            # Print * for all initial and last positions \n",
    "            if i == 0 or i == n-1 or j == 0 or j == n-1:\n",
    "                print('* ', end='')\n",
    "            # Print spaces for other positions\n",
    "            else:\n",
    "                print('  ', end='')\n",
    "        print()"
   ]
  },
  {
   "cell_type": "code",
   "execution_count": 6,
   "metadata": {},
   "outputs": [
    {
     "name": "stdout",
     "output_type": "stream",
     "text": [
      "* \n"
     ]
    }
   ],
   "source": [
    "make_square(1)"
   ]
  },
  {
   "cell_type": "code",
   "execution_count": 7,
   "metadata": {},
   "outputs": [
    {
     "name": "stdout",
     "output_type": "stream",
     "text": [
      "* * \n",
      "* * \n"
     ]
    }
   ],
   "source": [
    "make_square(2)"
   ]
  },
  {
   "cell_type": "code",
   "execution_count": 8,
   "metadata": {},
   "outputs": [
    {
     "name": "stdout",
     "output_type": "stream",
     "text": [
      "* * * \n",
      "*   * \n",
      "* * * \n"
     ]
    }
   ],
   "source": [
    "make_square(3)"
   ]
  },
  {
   "cell_type": "code",
   "execution_count": 9,
   "metadata": {},
   "outputs": [
    {
     "name": "stdout",
     "output_type": "stream",
     "text": [
      "* * * * * \n",
      "*       * \n",
      "*       * \n",
      "*       * \n",
      "* * * * * \n"
     ]
    }
   ],
   "source": [
    "make_square(5)"
   ]
  },
  {
   "cell_type": "code",
   "execution_count": 10,
   "metadata": {},
   "outputs": [
    {
     "name": "stdout",
     "output_type": "stream",
     "text": [
      "* * * * * * * * * * \n",
      "*                 * \n",
      "*                 * \n",
      "*                 * \n",
      "*                 * \n",
      "*                 * \n",
      "*                 * \n",
      "*                 * \n",
      "*                 * \n",
      "* * * * * * * * * * \n"
     ]
    }
   ],
   "source": [
    "make_square(10)"
   ]
  },
  {
   "cell_type": "markdown",
   "metadata": {
    "id": "8oZaq3fE6f79"
   },
   "source": [
    "# Permutations"
   ]
  },
  {
   "cell_type": "markdown",
   "metadata": {
    "id": "ylJnUpIk6jrX"
   },
   "source": [
    "Вам дан массив с целыми числами ``nums``. Напишите функцию, которая принимает на вход данный массив и возвращает все возможные пермутации с данными числами. Возвращать массивы можно в любом порядке.\n",
    "\n",
    "**Sample Input 1:**\n",
    "\n",
    "``\n",
    "nums = [1,2,3]\n",
    "``\n",
    "\n",
    "**Sample Output 1:**\n",
    "\n",
    "``[[1,2,3],[1,3,2],[2,1,3],[2,3,1],[3,1,2],[3,2,1]]``\n",
    "\n",
    "**Sample Input 2:**\n",
    "\n",
    "``\n",
    "nums = [0,1]\n",
    "``\n",
    "\n",
    "**Sample Output 2:**\n",
    "\n",
    "``[[0,1],[1,0]]``\n",
    "\n",
    "**Sample Input 3:**\n",
    "\n",
    "``\n",
    "nums = [1]\n",
    "``\n",
    "\n",
    "**Sample Output 3:**\n",
    "\n",
    "``[[1]]``"
   ]
  },
  {
   "cell_type": "code",
   "execution_count": 11,
   "metadata": {
    "id": "AzhJABzn7GYR"
   },
   "outputs": [],
   "source": [
    "# Import permutation function\n",
    "from itertools import permutations\n",
    "\n",
    "\n",
    "def permutation(nums: list('int')) -> list('int'):\n",
    "    \"\"\"\n",
    "    Function creates all possible permutations of the list of integers.\n",
    "\n",
    "    :param nums: list of integers\n",
    "    :return: list of list with all permutations \n",
    "    \"\"\"\n",
    "    # As permutation function returns list of tuple, \n",
    "    # change type of permutations into list\n",
    "    perm_lst = list(map(list, permutations(nums)))\n",
    "\n",
    "    return perm_lst"
   ]
  },
  {
   "cell_type": "code",
   "execution_count": 12,
   "metadata": {},
   "outputs": [
    {
     "data": {
      "text/plain": [
       "[[1, 2, 3], [1, 3, 2], [2, 1, 3], [2, 3, 1], [3, 1, 2], [3, 2, 1]]"
      ]
     },
     "execution_count": 12,
     "metadata": {},
     "output_type": "execute_result"
    }
   ],
   "source": [
    "permutation([1, 2, 3])"
   ]
  },
  {
   "cell_type": "code",
   "execution_count": 13,
   "metadata": {},
   "outputs": [
    {
     "data": {
      "text/plain": [
       "[[0, 1], [1, 0]]"
      ]
     },
     "execution_count": 13,
     "metadata": {},
     "output_type": "execute_result"
    }
   ],
   "source": [
    "permutation([0, 1])"
   ]
  },
  {
   "cell_type": "code",
   "execution_count": 14,
   "metadata": {},
   "outputs": [
    {
     "data": {
      "text/plain": [
       "[[1]]"
      ]
     },
     "execution_count": 14,
     "metadata": {},
     "output_type": "execute_result"
    }
   ],
   "source": [
    "permutation([1])"
   ]
  },
  {
   "cell_type": "markdown",
   "metadata": {
    "id": "MDEu6tZQYATy"
   },
   "source": [
    "# Double factorial including only even numbers\n",
    "Дано натуральное $N \\leqslant 100$.  Выведите произведение всех чётных натуральных чисел, не превосходящих $N$."
   ]
  },
  {
   "cell_type": "code",
   "execution_count": 15,
   "metadata": {
    "id": "fjCKZc4Q6aId"
   },
   "outputs": [],
   "source": [
    "def almost_double_factorial(n: int) -> int:\n",
    "    \"\"\"\n",
    "    Function calculates double factorial including only even numbers.\n",
    "\n",
    "    :param n: integer\n",
    "    :return: double factorial including only even numbers \n",
    "    \"\"\"\n",
    "    # Condition for breaking recursion\n",
    "    if n == 0 or n == 1: \n",
    "        return 1\n",
    "    # For even number calculate normal double factorial\n",
    "    if n % 2 == 0:\n",
    "        return n * almost_double_factorial(n - 2)\n",
    "    # For odd number reduce this number to get even one\n",
    "    else:\n",
    "        return (n-1) * almost_double_factorial(n - 2)"
   ]
  },
  {
   "cell_type": "code",
   "execution_count": 16,
   "metadata": {
    "id": "5GgcNVy1YAT0"
   },
   "outputs": [],
   "source": [
    "N = 25\n",
    "N_double_fact = almost_double_factorial(N)\n",
    "assert N_double_fact == 1961990553600, \"Something is wrong! Please try again\"\n",
    "\n",
    "N = 100\n",
    "N_double_fact = almost_double_factorial(N)\n",
    "assert N_double_fact == \\\n",
    "34243224702511976248246432895208185975118675053719198827915654463488000000000000,\\\n",
    "\"Something is wrong! Please try again\""
   ]
  },
  {
   "cell_type": "code",
   "execution_count": 17,
   "metadata": {},
   "outputs": [
    {
     "data": {
      "text/plain": [
       "1961990553600"
      ]
     },
     "execution_count": 17,
     "metadata": {},
     "output_type": "execute_result"
    }
   ],
   "source": [
    "almost_double_factorial(25)"
   ]
  },
  {
   "cell_type": "code",
   "execution_count": 18,
   "metadata": {},
   "outputs": [
    {
     "data": {
      "text/plain": [
       "34243224702511976248246432895208185975118675053719198827915654463488000000000000"
      ]
     },
     "execution_count": 18,
     "metadata": {},
     "output_type": "execute_result"
    }
   ],
   "source": [
    "almost_double_factorial(100)"
   ]
  },
  {
   "cell_type": "markdown",
   "metadata": {
    "id": "A57_204nYAT3"
   },
   "source": [
    "# Sorting\n",
    "\n",
    "Пусть у нас есть следующий список, в котором элементы -- tuple из строк:\n",
    "\n",
    "``items = [('one', 'two'), ('three', 'four'), ('five', 'six'), ('string', 'a')]``\n",
    "\n",
    "Мы хотим отсортировать этот список по последней букве второго элемента каждого ``tuple``, т.е. получить такой список:\n",
    "\n",
    "``sorted_items = [('string', 'a'), ('one', 'two'), ('three', 'four'), ('five', 'six')]``.\n",
    "Что нужно вставить вместо \"###\" в следующем выражении, чтобы получить сортировку?\n",
    "\n",
    "``sorted_items = sorted(items, key=lambda x: ###)``"
   ]
  },
  {
   "cell_type": "code",
   "execution_count": 19,
   "metadata": {
    "id": "SnIk7m_8YAT4"
   },
   "outputs": [],
   "source": [
    "items = [('one', 'two'),\n",
    "         ('three', 'four'),\n",
    "         ('five', 'six'),\n",
    "         ('string', 'a')\n",
    "        ]\n",
    "\n",
    "sorted_items = sorted(items, key=lambda item: item[1][-1])\n",
    "                      \n",
    "assert sorted_items == [('string', 'a'),\n",
    "                        ('one', 'two'),\n",
    "                        ('three', 'four'),\n",
    "                        ('five', 'six')\n",
    "                       ], \"Something is wrong! Please try again\""
   ]
  },
  {
   "cell_type": "code",
   "execution_count": 20,
   "metadata": {},
   "outputs": [
    {
     "data": {
      "text/plain": [
       "[('string', 'a'), ('one', 'two'), ('three', 'four'), ('five', 'six')]"
      ]
     },
     "execution_count": 20,
     "metadata": {},
     "output_type": "execute_result"
    }
   ],
   "source": [
    "sorted_items"
   ]
  },
  {
   "cell_type": "markdown",
   "metadata": {
    "id": "f_ggknIxYAT7"
   },
   "source": [
    "# String replacement\n",
    "\n",
    "Вашей программе на вход подаются три строки ``s, a, b``, состоящие из строчных латинских букв.\n",
    "За одну операцию вы можете заменить все вхождения строки ``a`` в строку ``s`` на строку ``b``.\n",
    "\n",
    "Например, ``s = \"abab\", a = \"ab\", b = \"ba\"``, тогда после выполнения одной операции строка ``s`` перейдет в строку ``\"baba\"``, после выполнения двух и операций – в строку ``\"bbaa\"``, и дальнейшие операции не будут изменять строку ``s``.\n",
    "\n",
    "Необходимо узнать, после какого минимального количества операций в строке ``s`` не останется вхождений строки ``a``. Если операций потребуется более 1000, выведите ``Impossible``.\n",
    "\n",
    "Выведите одно число – минимальное число операций, после применения которых в строке ``s`` не останется вхождений строки ``a``, или ``Impossible``, если операций потребуется более 1000.\n",
    "\n",
    "**Sample Input 1:**\n",
    "\n",
    "``\n",
    "ababa\n",
    "a\n",
    "b\n",
    "``\n",
    "\n",
    "**Sample Output 1:**\n",
    "\n",
    "``1``\n",
    "\n",
    "**Sample Input 2:**\n",
    "\n",
    "``ababa\n",
    "b\n",
    "a``\n",
    "\n",
    "**Sample Output 2:**\n",
    "\n",
    "``1``\n",
    "\n",
    "**Sample Input 3:**\n",
    "\n",
    "``ababa\n",
    "c\n",
    "c``\n",
    "\n",
    "**Sample Output 3:**\n",
    "\n",
    "``0``\n",
    "\n",
    "**Sample Input 4:**\n",
    "\n",
    "``ababac\n",
    "c\n",
    "c``\n",
    "\n",
    "**Sample Output 4:**\n",
    "\n",
    "``Impossible``\n"
   ]
  },
  {
   "cell_type": "code",
   "execution_count": 21,
   "metadata": {
    "id": "JcLMmkF6YAT8"
   },
   "outputs": [],
   "source": [
    "def my_func(string: str, a_str: str, b_str: str) -> int or str:\n",
    "    \"\"\"\n",
    "    Each loop replaces all occurrences of `a_str` by `b_str` in the string.\n",
    "    Function calculates minimal number of loops to completely modify string.\n",
    "    Completely modifying means that `a` is no longer in the modified string.\n",
    "\n",
    "    :param string: initial string\n",
    "    :param a_str: string that is needed to be replaced\n",
    "    :param b_str: replacing string\n",
    "    :return:  minimal number of loops to completely modify initial string\n",
    "              or 'Impossible' in case of number of loops > 1000\n",
    "    \"\"\"\n",
    "    count = 0\n",
    "    s_modif = string\n",
    "\n",
    "    while True:\n",
    "        if count > 1000:\n",
    "            return 'Impossible'\n",
    "        elif a_str in s_modif:\n",
    "            s_modif = s_modif.replace(a_str, b_str)\n",
    "            count += 1\n",
    "        else: break\n",
    "\n",
    "    return count"
   ]
  },
  {
   "cell_type": "code",
   "execution_count": 22,
   "metadata": {
    "id": "JcLMmkF6YAT8"
   },
   "outputs": [
    {
     "data": {
      "text/plain": [
       "2"
      ]
     },
     "execution_count": 22,
     "metadata": {},
     "output_type": "execute_result"
    }
   ],
   "source": [
    "my_func('abab', 'ab', 'ba')"
   ]
  },
  {
   "cell_type": "code",
   "execution_count": 23,
   "metadata": {},
   "outputs": [
    {
     "data": {
      "text/plain": [
       "'Impossible'"
      ]
     },
     "execution_count": 23,
     "metadata": {},
     "output_type": "execute_result"
    }
   ],
   "source": [
    "my_func('ababac', 'c', 'c')"
   ]
  },
  {
   "cell_type": "code",
   "execution_count": 24,
   "metadata": {},
   "outputs": [
    {
     "data": {
      "text/plain": [
       "0"
      ]
     },
     "execution_count": 24,
     "metadata": {},
     "output_type": "execute_result"
    }
   ],
   "source": [
    "my_func('abab', 'c', 'c')"
   ]
  },
  {
   "cell_type": "markdown",
   "metadata": {
    "id": "3QOrzr1_YAT_"
   },
   "source": [
    "# Cumulative sum\n",
    "Дан массив $A[0,\\ldots,N-1]$. Напишите функцию, принимающую один обязательный аргумент A и один опциональный аргумент ``erase``, по умолчанию равный 1. Возвратите массив $B[0,\\ldots, N-1]$, где $B_i = A_0 + \\ldots + A_{i}$ --- массив частичных сумм массива $A$, предварительно удалив из массива $B$ все элементы, равные erase. Постарайтесь сделать это за линейное время без использования Numpy."
   ]
  },
  {
   "cell_type": "code",
   "execution_count": 25,
   "metadata": {
    "id": "GSeVXF-xYAUA"
   },
   "outputs": [],
   "source": [
    "def cumsum_and_erase(list_a: list('int'), erase: int=1) -> list['int']:\n",
    "    \"\"\"\n",
    "    Function creates new list with cumulative sums of current and previous elements\n",
    "    and returns list without elements that are equals to a given number (`erase`).\n",
    "\n",
    "    :param list_a: initial list\n",
    "    :param erase: number that is should be deleted from new list, default value=1\n",
    "    :return:\n",
    "    \"\"\"\n",
    "    list_b = []\n",
    "    summa = 0\n",
    "\n",
    "    # Loop creates list with cumulative sums\n",
    "    for num in list_a:\n",
    "        summa += num\n",
    "        list_b.append(summa)\n",
    "\n",
    "    # Delete numbers that are equal to `erase`\n",
    "    list_b = list(filter(lambda x: x != erase, list_b))\n",
    "\n",
    "    return list_b\n",
    "\n",
    "\n",
    "A = [5, 1, 4, 5, 14]\n",
    "B = cumsum_and_erase(A, erase=10)\n",
    "\n",
    "assert B == [5, 6, 15, 29], \"Something is wrong! Please try again\""
   ]
  },
  {
   "cell_type": "code",
   "execution_count": 26,
   "metadata": {},
   "outputs": [
    {
     "data": {
      "text/plain": [
       "[5, 6, 15, 29]"
      ]
     },
     "execution_count": 26,
     "metadata": {},
     "output_type": "execute_result"
    }
   ],
   "source": [
    "A = [5, 1, 4, 5, 14]\n",
    "B = cumsum_and_erase(A, erase=10)\n",
    "B"
   ]
  },
  {
   "cell_type": "code",
   "execution_count": 27,
   "metadata": {},
   "outputs": [
    {
     "data": {
      "text/plain": [
       "[0, 13, 27]"
      ]
     },
     "execution_count": 27,
     "metadata": {},
     "output_type": "execute_result"
    }
   ],
   "source": [
    "A = [0, 8, 0, 5, 14]\n",
    "B = cumsum_and_erase(A, erase=8)\n",
    "B"
   ]
  },
  {
   "cell_type": "markdown",
   "metadata": {
    "id": "xvOBFjavYAUD"
   },
   "source": [
    "# Text processing\n",
    "Дан список текстов, слова в которых разделены пробелами (можно считать, что знаков препинания нет). Часть слов является \"мусорными\": в них присутствуют цифры и спецсимволы. Отфильтруйте такие слова из каждого текста. Используйте функции ``str.split``, ``str.isalpha``, ``str.join``, а также [генератор filter](http://pythonicway.com/python-functinal-programming)."
   ]
  },
  {
   "cell_type": "code",
   "execution_count": 28,
   "metadata": {
    "id": "GBzS-UHZYAUE"
   },
   "outputs": [],
   "source": [
    "sentences = ['1 thousand devils', 'My name is 9Pasha', 'Room #125 costs $100']\n",
    "\n",
    "\n",
    "def process(sentences: list('str')) -> list('str'):\n",
    "    \"\"\"\n",
    "    Function filters out words containing non-alphabetic symbols.\n",
    "\n",
    "    :param sentences: initial list of strings\n",
    "    :return: list of sentences without non-alphabetic symbols\n",
    "    \"\"\"\n",
    "    result = []\n",
    "\n",
    "    for sentence in sentences:\n",
    "        word_list = sentence.split()\n",
    "        res = list(filter(lambda word: word.isalpha(), word_list))\n",
    "        res = ' '.join(res)\n",
    "        result.append(res)\n",
    "    \n",
    "    return result\n",
    "\n",
    "\n",
    "assert process(sentences) == ['thousand devils', 'My name is', 'Room costs'], \\\n",
    "\"Something is wrong! Please try again\""
   ]
  },
  {
   "cell_type": "code",
   "execution_count": 29,
   "metadata": {},
   "outputs": [
    {
     "data": {
      "text/plain": [
       "['thousand devils', 'My name is', 'Room costs']"
      ]
     },
     "execution_count": 29,
     "metadata": {},
     "output_type": "execute_result"
    }
   ],
   "source": [
    "sentences = ['1 thousand devils', 'My name is 9Pasha', 'Room #125 costs $100']\n",
    "process(sentences)"
   ]
  },
  {
   "cell_type": "markdown",
   "metadata": {
    "id": "lNCcTYSRow1j"
   },
   "source": [
    "# Hamming distance"
   ]
  },
  {
   "cell_type": "markdown",
   "metadata": {
    "id": "8jfcOp6ckl30"
   },
   "source": [
    "Вам даны две строки, ``a`` и ``b`` одинаковой длины. Необходимо посчитать расстояние Хэмминга между ними, которое определяется как количество символов, которые не совпадают между двумя строками в одинаковой позиции.\n",
    "\n",
    "**Sample Input 1:**\n",
    "\n",
    "```\n",
    "a = 'AGCT'\n",
    "b = 'ACGT'\n",
    "hamming(a, b)\n",
    "```\n",
    "\n",
    "**Sample Output 1:**\n",
    "\n",
    "``2``"
   ]
  },
  {
   "cell_type": "code",
   "execution_count": 30,
   "metadata": {
    "id": "d_IYhoPcg3Ru"
   },
   "outputs": [],
   "source": [
    "def hamming(str_a: str, str_b: str) -> int:\n",
    "    \"\"\"\n",
    "    Function calculates Hamming distance.\n",
    "\n",
    "    :param str_a: first string\n",
    "    :param str_b: second string\n",
    "    :return: Hamming distance\n",
    "    \"\"\"\n",
    "    count = 0\n",
    "\n",
    "    for a, b in zip(str_a, str_b):\n",
    "        if a != b:\n",
    "            count += 1\n",
    "\n",
    "    return count\n",
    "\n",
    "\n",
    "assert hamming(\"AGCT\", \"ACGT\") == 2"
   ]
  },
  {
   "cell_type": "code",
   "execution_count": 31,
   "metadata": {},
   "outputs": [
    {
     "data": {
      "text/plain": [
       "2"
      ]
     },
     "execution_count": 31,
     "metadata": {},
     "output_type": "execute_result"
    }
   ],
   "source": [
    "a = 'AGCT'\n",
    "b = 'ACGT'\n",
    "hamming(a, b)"
   ]
  },
  {
   "cell_type": "code",
   "execution_count": 32,
   "metadata": {},
   "outputs": [
    {
     "data": {
      "text/plain": [
       "3"
      ]
     },
     "execution_count": 32,
     "metadata": {},
     "output_type": "execute_result"
    }
   ],
   "source": [
    "a = 'karolin' \n",
    "b = 'kathrin'\n",
    "hamming(a, b)"
   ]
  },
  {
   "cell_type": "code",
   "execution_count": 33,
   "metadata": {},
   "outputs": [
    {
     "data": {
      "text/plain": [
       "4"
      ]
     },
     "execution_count": 33,
     "metadata": {},
     "output_type": "execute_result"
    }
   ],
   "source": [
    "a = '1234'\n",
    "b = '0000'\n",
    "hamming(a, b)"
   ]
  },
  {
   "cell_type": "markdown",
   "metadata": {
    "id": "iA7EQgga9OB-"
   },
   "source": [
    "# Numpy"
   ]
  },
  {
   "cell_type": "code",
   "execution_count": 34,
   "metadata": {
    "id": "HEFAaMjP9CRh"
   },
   "outputs": [],
   "source": [
    "import numpy as np\n",
    "import random\n",
    "import scipy.stats as sps"
   ]
  },
  {
   "cell_type": "markdown",
   "metadata": {
    "id": "6Bul4Uue9Ww9"
   },
   "source": [
    "### Задание 1\n",
    "В первой задаче вам предлагается перемножить две квадратные матрицы двумя способами -- без использования пакета ***numpy*** и с ним."
   ]
  },
  {
   "cell_type": "code",
   "execution_count": 35,
   "metadata": {
    "id": "ClrydYj59XPc"
   },
   "outputs": [
    {
     "name": "stdout",
     "output_type": "stream",
     "text": [
      "Размерность матрицы а: 2\n",
      "Размерность матрицы b: 2\n",
      "Количество строк и столбцов матрицы а: (100, 100)\n",
      "Количество строк и столбцов матрицы b: (100, 100)\n",
      "\n",
      "\n",
      "[[0.65005918 0.47189801 0.62948346 ... 0.02390339 0.49032301 0.13567913]\n",
      " [0.87448659 0.41788004 0.79920282 ... 0.4738236  0.60193605 0.51848742]\n",
      " [0.61970755 0.29098938 0.4655297  ... 0.76533072 0.68786419 0.29446967]\n",
      " ...\n",
      " [0.76751864 0.21589858 0.39055688 ... 0.90085301 0.64817495 0.54579439]\n",
      " [0.01065376 0.15795177 0.54790127 ... 0.64992555 0.30524403 0.21837619]\n",
      " [0.785398   0.29721307 0.94916897 ... 0.63629704 0.85626337 0.59450278]]\n",
      "[[0.25841533 0.97350727 0.7093045  ... 0.94945034 0.40375025 0.78347894]\n",
      " [0.70023731 0.41078075 0.31785592 ... 0.55772565 0.39918143 0.56726988]\n",
      " [0.71010604 0.42678553 0.07742241 ... 0.79365432 0.64832947 0.41563908]\n",
      " ...\n",
      " [0.89449283 0.03220215 0.41295501 ... 0.04872091 0.42456784 0.65823846]\n",
      " [0.66213453 0.6132235  0.93952894 ... 0.00909376 0.621482   0.47176026]\n",
      " [0.04710773 0.94561771 0.61972673 ... 0.6398102  0.96734723 0.87222021]]\n"
     ]
    }
   ],
   "source": [
    "# Для генерации матриц используем фукнцию random -- \n",
    "# она используется для генерации случайных объектов \n",
    "# функция sample создает случайную выборку. \n",
    "# В качестве аргумента ей передается кортеж (i,j),  \n",
    "# здесь i -- число строк, j -- число столбцов.\n",
    "a = np.random.sample((100, 100))\n",
    "b = np.random.sample((100, 100))\n",
    "\n",
    "# Выведите размерность (ранг) каждой матрицы с помощью функции ndim.\n",
    "# Используйте функцию shape, что она вывела?\n",
    "\n",
    "# ========\n",
    "print(f'Размерность матрицы а: {a.ndim}')\n",
    "print(f'Размерность матрицы b: {b.ndim}')\n",
    "print(f'Количество строк и столбцов матрицы а: {a.shape}')\n",
    "print(f'Количество строк и столбцов матрицы b: {b.shape}')\n",
    "print()\n",
    "# ========\n",
    "print()\n",
    "print(a)\n",
    "print(b)"
   ]
  },
  {
   "cell_type": "code",
   "execution_count": 36,
   "metadata": {
    "id": "yeejqk_z9aXD"
   },
   "outputs": [
    {
     "data": {
      "text/plain": [
       "[[6, 20, 6], [2, 15, 6], [6, 8, 12]]"
      ]
     },
     "execution_count": 36,
     "metadata": {},
     "output_type": "execute_result"
    }
   ],
   "source": [
    "def mult(list_a: list('int'), list_b: list('int')) -> list('int'):\n",
    "    \"\"\"  \n",
    "    Функция принимает на вход две матрицы: a и b размерностью size x size\n",
    "    Возвращает матрицу их произведения a * b = c \n",
    "\n",
    "    Реализуйте умножение матриц без использования функций из пакета numpy \n",
    "    (может помочь функция zip)\n",
    "\n",
    "    :param list_a: list of \"size\" lists, each contains \"size\" floats --- \n",
    "       первая матрица-аргумент\n",
    "    :param list_b: list of \"size\" lists, each contains \"size\" floats --- \n",
    "       вторая матрица-аргумент\n",
    "    :return: list of \"size\" lists, each contains \"size\" floats ---\n",
    "       матрица, являющаяся результатом умножения матриц a и b\n",
    "    \"\"\"\n",
    "    list_c = []\n",
    "\n",
    "    for row_a, row_b in zip(list_a, list_b):\n",
    "        row_c = []\n",
    "        for a, b in zip(row_a, row_b):\n",
    "            row_c.append(a * b)\n",
    "        list_c.append(row_c)\n",
    "\n",
    "    return list_c\n",
    "\n",
    "\n",
    "a = [[3, 4, 2],\n",
    "     [2, 5, 3], \n",
    "     [2, 4, 3]\n",
    "    ]\n",
    "b = [[2, 5, 3],\n",
    "     [1, 3, 2], \n",
    "     [3, 2, 4]\n",
    "    ]\n",
    "\n",
    "mult(a, b)"
   ]
  },
  {
   "cell_type": "code",
   "execution_count": 37,
   "metadata": {
    "id": "ul0QaXni9cAq"
   },
   "outputs": [
    {
     "data": {
      "text/plain": [
       "array([[ 6, 20,  6],\n",
       "       [ 2, 15,  6],\n",
       "       [ 6,  8, 12]], dtype=int16)"
      ]
     },
     "execution_count": 37,
     "metadata": {},
     "output_type": "execute_result"
    }
   ],
   "source": [
    "def np_mult(arr_a: np.array, arr_b: np.array) -> np.array:\n",
    "    \"\"\"  \n",
    "    Функция принимает на вход две матрицы: a и b размерностью size x size\n",
    "    Возвращает матрицу их произведения a * b = c \n",
    "\n",
    "    Реализуйте умножение матриц, используя функции из пакета numpy.\n",
    "\n",
    "    :param arr_a: np.array[size, size] --- первая матрица-аргумент\n",
    "    :param arr_b: np.array[size, size] --- вторая матрица-аргумент\n",
    "    :return: np.array[size, size] --- матрица, \n",
    "        являющаяся результатом умножения матриц a и b\n",
    "    \"\"\"\n",
    "    return arr_a * arr_b\n",
    "\n",
    "\n",
    "c = np.array([[3, 4, 2],\n",
    "              [2, 5, 3], \n",
    "              [2, 4, 3]\n",
    "             ], dtype=np.int16\n",
    "            )\n",
    "d = np.array([[2, 5, 3],\n",
    "              [1, 3, 2],\n",
    "              [3, 2, 4]\n",
    "             ], dtype=np.int16\n",
    "            )\n",
    "\n",
    "np_mult(c, d)"
   ]
  },
  {
   "cell_type": "code",
   "execution_count": 41,
   "metadata": {
    "id": "gFdt-Kbe9gWi"
   },
   "outputs": [
    {
     "name": "stdout",
     "output_type": "stream",
     "text": [
      "CPU times: total: 0 ns\n",
      "Wall time: 0 ns\n"
     ]
    }
   ],
   "source": [
    "%%time\n",
    "# засечем время работы функции без NumPy\n",
    "M1 = mult(a, b)"
   ]
  },
  {
   "cell_type": "code",
   "execution_count": 42,
   "metadata": {
    "id": "F5QOtMj19h4n"
   },
   "outputs": [
    {
     "name": "stdout",
     "output_type": "stream",
     "text": [
      "CPU times: total: 0 ns\n",
      "Wall time: 0 ns\n"
     ]
    }
   ],
   "source": [
    "%%time\n",
    "# засечем время работы функции с NumPy\n",
    "M2 = np_mult(c, d)"
   ]
  },
  {
   "cell_type": "code",
   "execution_count": 43,
   "metadata": {
    "id": "BTDTjNjk9i3s"
   },
   "outputs": [],
   "source": [
    "# проверим корректность\n",
    "assert np.allclose(np.array(M1), M2)"
   ]
  },
  {
   "cell_type": "code",
   "execution_count": null,
   "metadata": {
    "id": "bLQ-E_mC9j6D"
   },
   "outputs": [],
   "source": []
  }
 ],
 "metadata": {
  "colab": {
   "collapsed_sections": [],
   "provenance": []
  },
  "kernelspec": {
   "display_name": "Python 3 (ipykernel)",
   "language": "python",
   "name": "python3"
  },
  "language_info": {
   "codemirror_mode": {
    "name": "ipython",
    "version": 3
   },
   "file_extension": ".py",
   "mimetype": "text/x-python",
   "name": "python",
   "nbconvert_exporter": "python",
   "pygments_lexer": "ipython3",
   "version": "3.10.0"
  },
  "vscode": {
   "interpreter": {
    "hash": "ed89f1c8d115d5e0a08de8f8278ced7016eff84acb8dbc6b22bd8780d1c494e1"
   }
  }
 },
 "nbformat": 4,
 "nbformat_minor": 1
}
